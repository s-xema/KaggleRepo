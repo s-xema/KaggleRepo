{
 "cells": [
  {
   "cell_type": "code",
   "execution_count": 1,
   "id": "6b9baf9b",
   "metadata": {
    "_cell_guid": "b1076dfc-b9ad-4769-8c92-a6c4dae69d19",
    "_uuid": "8f2839f25d086af736a60e9eeb907d3b93b6e0e5",
    "execution": {
     "iopub.execute_input": "2023-02-15T18:41:44.049729Z",
     "iopub.status.busy": "2023-02-15T18:41:44.049253Z",
     "iopub.status.idle": "2023-02-15T18:41:45.167881Z",
     "shell.execute_reply": "2023-02-15T18:41:45.167217Z"
    },
    "papermill": {
     "duration": 1.131641,
     "end_time": "2023-02-15T18:41:45.170355",
     "exception": false,
     "start_time": "2023-02-15T18:41:44.038714",
     "status": "completed"
    },
    "tags": []
   },
   "outputs": [],
   "source": [
    "import numpy as np # linear algebra\n",
    "import pandas as pd # data processing, CSV file I/O (e.g. pd.read_csv)\n",
    "\n",
    "# visualization\n",
    "import seaborn as sns\n",
    "import matplotlib.pyplot as plt\n",
    "%matplotlib inline\n",
    "\n",
    "from sklearn.model_selection import train_test_split\n",
    "from sklearn.preprocessing import LabelEncoder, OrdinalEncoder\n",
    "from sklearn.metrics import confusion_matrix, accuracy_score\n",
    "from sklearn.ensemble import RandomForestClassifier\n",
    "from sklearn.metrics import confusion_matrix, accuracy_score\n",
    "from sklearn.svm import SVC\n",
    "from sklearn.ensemble import ExtraTreesClassifier"
   ]
  },
  {
   "cell_type": "code",
   "execution_count": 2,
   "id": "567f6537",
   "metadata": {
    "execution": {
     "iopub.execute_input": "2023-02-15T18:41:45.188529Z",
     "iopub.status.busy": "2023-02-15T18:41:45.187975Z",
     "iopub.status.idle": "2023-02-15T18:41:45.233365Z",
     "shell.execute_reply": "2023-02-15T18:41:45.232480Z"
    },
    "papermill": {
     "duration": 0.056642,
     "end_time": "2023-02-15T18:41:45.235423",
     "exception": false,
     "start_time": "2023-02-15T18:41:45.178781",
     "status": "completed"
    },
    "tags": []
   },
   "outputs": [
    {
     "data": {
      "text/html": [
       "<div>\n",
       "<style scoped>\n",
       "    .dataframe tbody tr th:only-of-type {\n",
       "        vertical-align: middle;\n",
       "    }\n",
       "\n",
       "    .dataframe tbody tr th {\n",
       "        vertical-align: top;\n",
       "    }\n",
       "\n",
       "    .dataframe thead th {\n",
       "        text-align: right;\n",
       "    }\n",
       "</style>\n",
       "<table border=\"1\" class=\"dataframe\">\n",
       "  <thead>\n",
       "    <tr style=\"text-align: right;\">\n",
       "      <th></th>\n",
       "      <th>PassengerId</th>\n",
       "      <th>Survived</th>\n",
       "      <th>Pclass</th>\n",
       "      <th>Name</th>\n",
       "      <th>Sex</th>\n",
       "      <th>Age</th>\n",
       "      <th>SibSp</th>\n",
       "      <th>Parch</th>\n",
       "      <th>Ticket</th>\n",
       "      <th>Fare</th>\n",
       "      <th>Cabin</th>\n",
       "      <th>Embarked</th>\n",
       "    </tr>\n",
       "  </thead>\n",
       "  <tbody>\n",
       "    <tr>\n",
       "      <th>0</th>\n",
       "      <td>1</td>\n",
       "      <td>0</td>\n",
       "      <td>3</td>\n",
       "      <td>Braund, Mr. Owen Harris</td>\n",
       "      <td>male</td>\n",
       "      <td>22.0</td>\n",
       "      <td>1</td>\n",
       "      <td>0</td>\n",
       "      <td>A/5 21171</td>\n",
       "      <td>7.2500</td>\n",
       "      <td>NaN</td>\n",
       "      <td>S</td>\n",
       "    </tr>\n",
       "    <tr>\n",
       "      <th>1</th>\n",
       "      <td>2</td>\n",
       "      <td>1</td>\n",
       "      <td>1</td>\n",
       "      <td>Cumings, Mrs. John Bradley (Florence Briggs Th...</td>\n",
       "      <td>female</td>\n",
       "      <td>38.0</td>\n",
       "      <td>1</td>\n",
       "      <td>0</td>\n",
       "      <td>PC 17599</td>\n",
       "      <td>71.2833</td>\n",
       "      <td>C85</td>\n",
       "      <td>C</td>\n",
       "    </tr>\n",
       "    <tr>\n",
       "      <th>2</th>\n",
       "      <td>3</td>\n",
       "      <td>1</td>\n",
       "      <td>3</td>\n",
       "      <td>Heikkinen, Miss. Laina</td>\n",
       "      <td>female</td>\n",
       "      <td>26.0</td>\n",
       "      <td>0</td>\n",
       "      <td>0</td>\n",
       "      <td>STON/O2. 3101282</td>\n",
       "      <td>7.9250</td>\n",
       "      <td>NaN</td>\n",
       "      <td>S</td>\n",
       "    </tr>\n",
       "    <tr>\n",
       "      <th>3</th>\n",
       "      <td>4</td>\n",
       "      <td>1</td>\n",
       "      <td>1</td>\n",
       "      <td>Futrelle, Mrs. Jacques Heath (Lily May Peel)</td>\n",
       "      <td>female</td>\n",
       "      <td>35.0</td>\n",
       "      <td>1</td>\n",
       "      <td>0</td>\n",
       "      <td>113803</td>\n",
       "      <td>53.1000</td>\n",
       "      <td>C123</td>\n",
       "      <td>S</td>\n",
       "    </tr>\n",
       "    <tr>\n",
       "      <th>4</th>\n",
       "      <td>5</td>\n",
       "      <td>0</td>\n",
       "      <td>3</td>\n",
       "      <td>Allen, Mr. William Henry</td>\n",
       "      <td>male</td>\n",
       "      <td>35.0</td>\n",
       "      <td>0</td>\n",
       "      <td>0</td>\n",
       "      <td>373450</td>\n",
       "      <td>8.0500</td>\n",
       "      <td>NaN</td>\n",
       "      <td>S</td>\n",
       "    </tr>\n",
       "    <tr>\n",
       "      <th>5</th>\n",
       "      <td>6</td>\n",
       "      <td>0</td>\n",
       "      <td>3</td>\n",
       "      <td>Moran, Mr. James</td>\n",
       "      <td>male</td>\n",
       "      <td>NaN</td>\n",
       "      <td>0</td>\n",
       "      <td>0</td>\n",
       "      <td>330877</td>\n",
       "      <td>8.4583</td>\n",
       "      <td>NaN</td>\n",
       "      <td>Q</td>\n",
       "    </tr>\n",
       "    <tr>\n",
       "      <th>6</th>\n",
       "      <td>7</td>\n",
       "      <td>0</td>\n",
       "      <td>1</td>\n",
       "      <td>McCarthy, Mr. Timothy J</td>\n",
       "      <td>male</td>\n",
       "      <td>54.0</td>\n",
       "      <td>0</td>\n",
       "      <td>0</td>\n",
       "      <td>17463</td>\n",
       "      <td>51.8625</td>\n",
       "      <td>E46</td>\n",
       "      <td>S</td>\n",
       "    </tr>\n",
       "    <tr>\n",
       "      <th>7</th>\n",
       "      <td>8</td>\n",
       "      <td>0</td>\n",
       "      <td>3</td>\n",
       "      <td>Palsson, Master. Gosta Leonard</td>\n",
       "      <td>male</td>\n",
       "      <td>2.0</td>\n",
       "      <td>3</td>\n",
       "      <td>1</td>\n",
       "      <td>349909</td>\n",
       "      <td>21.0750</td>\n",
       "      <td>NaN</td>\n",
       "      <td>S</td>\n",
       "    </tr>\n",
       "    <tr>\n",
       "      <th>8</th>\n",
       "      <td>9</td>\n",
       "      <td>1</td>\n",
       "      <td>3</td>\n",
       "      <td>Johnson, Mrs. Oscar W (Elisabeth Vilhelmina Berg)</td>\n",
       "      <td>female</td>\n",
       "      <td>27.0</td>\n",
       "      <td>0</td>\n",
       "      <td>2</td>\n",
       "      <td>347742</td>\n",
       "      <td>11.1333</td>\n",
       "      <td>NaN</td>\n",
       "      <td>S</td>\n",
       "    </tr>\n",
       "    <tr>\n",
       "      <th>9</th>\n",
       "      <td>10</td>\n",
       "      <td>1</td>\n",
       "      <td>2</td>\n",
       "      <td>Nasser, Mrs. Nicholas (Adele Achem)</td>\n",
       "      <td>female</td>\n",
       "      <td>14.0</td>\n",
       "      <td>1</td>\n",
       "      <td>0</td>\n",
       "      <td>237736</td>\n",
       "      <td>30.0708</td>\n",
       "      <td>NaN</td>\n",
       "      <td>C</td>\n",
       "    </tr>\n",
       "    <tr>\n",
       "      <th>10</th>\n",
       "      <td>11</td>\n",
       "      <td>1</td>\n",
       "      <td>3</td>\n",
       "      <td>Sandstrom, Miss. Marguerite Rut</td>\n",
       "      <td>female</td>\n",
       "      <td>4.0</td>\n",
       "      <td>1</td>\n",
       "      <td>1</td>\n",
       "      <td>PP 9549</td>\n",
       "      <td>16.7000</td>\n",
       "      <td>G6</td>\n",
       "      <td>S</td>\n",
       "    </tr>\n",
       "    <tr>\n",
       "      <th>11</th>\n",
       "      <td>12</td>\n",
       "      <td>1</td>\n",
       "      <td>1</td>\n",
       "      <td>Bonnell, Miss. Elizabeth</td>\n",
       "      <td>female</td>\n",
       "      <td>58.0</td>\n",
       "      <td>0</td>\n",
       "      <td>0</td>\n",
       "      <td>113783</td>\n",
       "      <td>26.5500</td>\n",
       "      <td>C103</td>\n",
       "      <td>S</td>\n",
       "    </tr>\n",
       "    <tr>\n",
       "      <th>12</th>\n",
       "      <td>13</td>\n",
       "      <td>0</td>\n",
       "      <td>3</td>\n",
       "      <td>Saundercock, Mr. William Henry</td>\n",
       "      <td>male</td>\n",
       "      <td>20.0</td>\n",
       "      <td>0</td>\n",
       "      <td>0</td>\n",
       "      <td>A/5. 2151</td>\n",
       "      <td>8.0500</td>\n",
       "      <td>NaN</td>\n",
       "      <td>S</td>\n",
       "    </tr>\n",
       "    <tr>\n",
       "      <th>13</th>\n",
       "      <td>14</td>\n",
       "      <td>0</td>\n",
       "      <td>3</td>\n",
       "      <td>Andersson, Mr. Anders Johan</td>\n",
       "      <td>male</td>\n",
       "      <td>39.0</td>\n",
       "      <td>1</td>\n",
       "      <td>5</td>\n",
       "      <td>347082</td>\n",
       "      <td>31.2750</td>\n",
       "      <td>NaN</td>\n",
       "      <td>S</td>\n",
       "    </tr>\n",
       "    <tr>\n",
       "      <th>14</th>\n",
       "      <td>15</td>\n",
       "      <td>0</td>\n",
       "      <td>3</td>\n",
       "      <td>Vestrom, Miss. Hulda Amanda Adolfina</td>\n",
       "      <td>female</td>\n",
       "      <td>14.0</td>\n",
       "      <td>0</td>\n",
       "      <td>0</td>\n",
       "      <td>350406</td>\n",
       "      <td>7.8542</td>\n",
       "      <td>NaN</td>\n",
       "      <td>S</td>\n",
       "    </tr>\n",
       "    <tr>\n",
       "      <th>15</th>\n",
       "      <td>16</td>\n",
       "      <td>1</td>\n",
       "      <td>2</td>\n",
       "      <td>Hewlett, Mrs. (Mary D Kingcome)</td>\n",
       "      <td>female</td>\n",
       "      <td>55.0</td>\n",
       "      <td>0</td>\n",
       "      <td>0</td>\n",
       "      <td>248706</td>\n",
       "      <td>16.0000</td>\n",
       "      <td>NaN</td>\n",
       "      <td>S</td>\n",
       "    </tr>\n",
       "    <tr>\n",
       "      <th>16</th>\n",
       "      <td>17</td>\n",
       "      <td>0</td>\n",
       "      <td>3</td>\n",
       "      <td>Rice, Master. Eugene</td>\n",
       "      <td>male</td>\n",
       "      <td>2.0</td>\n",
       "      <td>4</td>\n",
       "      <td>1</td>\n",
       "      <td>382652</td>\n",
       "      <td>29.1250</td>\n",
       "      <td>NaN</td>\n",
       "      <td>Q</td>\n",
       "    </tr>\n",
       "    <tr>\n",
       "      <th>17</th>\n",
       "      <td>18</td>\n",
       "      <td>1</td>\n",
       "      <td>2</td>\n",
       "      <td>Williams, Mr. Charles Eugene</td>\n",
       "      <td>male</td>\n",
       "      <td>NaN</td>\n",
       "      <td>0</td>\n",
       "      <td>0</td>\n",
       "      <td>244373</td>\n",
       "      <td>13.0000</td>\n",
       "      <td>NaN</td>\n",
       "      <td>S</td>\n",
       "    </tr>\n",
       "    <tr>\n",
       "      <th>18</th>\n",
       "      <td>19</td>\n",
       "      <td>0</td>\n",
       "      <td>3</td>\n",
       "      <td>Vander Planke, Mrs. Julius (Emelia Maria Vande...</td>\n",
       "      <td>female</td>\n",
       "      <td>31.0</td>\n",
       "      <td>1</td>\n",
       "      <td>0</td>\n",
       "      <td>345763</td>\n",
       "      <td>18.0000</td>\n",
       "      <td>NaN</td>\n",
       "      <td>S</td>\n",
       "    </tr>\n",
       "    <tr>\n",
       "      <th>19</th>\n",
       "      <td>20</td>\n",
       "      <td>1</td>\n",
       "      <td>3</td>\n",
       "      <td>Masselmani, Mrs. Fatima</td>\n",
       "      <td>female</td>\n",
       "      <td>NaN</td>\n",
       "      <td>0</td>\n",
       "      <td>0</td>\n",
       "      <td>2649</td>\n",
       "      <td>7.2250</td>\n",
       "      <td>NaN</td>\n",
       "      <td>C</td>\n",
       "    </tr>\n",
       "  </tbody>\n",
       "</table>\n",
       "</div>"
      ],
      "text/plain": [
       "    PassengerId  Survived  Pclass  \\\n",
       "0             1         0       3   \n",
       "1             2         1       1   \n",
       "2             3         1       3   \n",
       "3             4         1       1   \n",
       "4             5         0       3   \n",
       "5             6         0       3   \n",
       "6             7         0       1   \n",
       "7             8         0       3   \n",
       "8             9         1       3   \n",
       "9            10         1       2   \n",
       "10           11         1       3   \n",
       "11           12         1       1   \n",
       "12           13         0       3   \n",
       "13           14         0       3   \n",
       "14           15         0       3   \n",
       "15           16         1       2   \n",
       "16           17         0       3   \n",
       "17           18         1       2   \n",
       "18           19         0       3   \n",
       "19           20         1       3   \n",
       "\n",
       "                                                 Name     Sex   Age  SibSp  \\\n",
       "0                             Braund, Mr. Owen Harris    male  22.0      1   \n",
       "1   Cumings, Mrs. John Bradley (Florence Briggs Th...  female  38.0      1   \n",
       "2                              Heikkinen, Miss. Laina  female  26.0      0   \n",
       "3        Futrelle, Mrs. Jacques Heath (Lily May Peel)  female  35.0      1   \n",
       "4                            Allen, Mr. William Henry    male  35.0      0   \n",
       "5                                    Moran, Mr. James    male   NaN      0   \n",
       "6                             McCarthy, Mr. Timothy J    male  54.0      0   \n",
       "7                      Palsson, Master. Gosta Leonard    male   2.0      3   \n",
       "8   Johnson, Mrs. Oscar W (Elisabeth Vilhelmina Berg)  female  27.0      0   \n",
       "9                 Nasser, Mrs. Nicholas (Adele Achem)  female  14.0      1   \n",
       "10                    Sandstrom, Miss. Marguerite Rut  female   4.0      1   \n",
       "11                           Bonnell, Miss. Elizabeth  female  58.0      0   \n",
       "12                     Saundercock, Mr. William Henry    male  20.0      0   \n",
       "13                        Andersson, Mr. Anders Johan    male  39.0      1   \n",
       "14               Vestrom, Miss. Hulda Amanda Adolfina  female  14.0      0   \n",
       "15                   Hewlett, Mrs. (Mary D Kingcome)   female  55.0      0   \n",
       "16                               Rice, Master. Eugene    male   2.0      4   \n",
       "17                       Williams, Mr. Charles Eugene    male   NaN      0   \n",
       "18  Vander Planke, Mrs. Julius (Emelia Maria Vande...  female  31.0      1   \n",
       "19                            Masselmani, Mrs. Fatima  female   NaN      0   \n",
       "\n",
       "    Parch            Ticket     Fare Cabin Embarked  \n",
       "0       0         A/5 21171   7.2500   NaN        S  \n",
       "1       0          PC 17599  71.2833   C85        C  \n",
       "2       0  STON/O2. 3101282   7.9250   NaN        S  \n",
       "3       0            113803  53.1000  C123        S  \n",
       "4       0            373450   8.0500   NaN        S  \n",
       "5       0            330877   8.4583   NaN        Q  \n",
       "6       0             17463  51.8625   E46        S  \n",
       "7       1            349909  21.0750   NaN        S  \n",
       "8       2            347742  11.1333   NaN        S  \n",
       "9       0            237736  30.0708   NaN        C  \n",
       "10      1           PP 9549  16.7000    G6        S  \n",
       "11      0            113783  26.5500  C103        S  \n",
       "12      0         A/5. 2151   8.0500   NaN        S  \n",
       "13      5            347082  31.2750   NaN        S  \n",
       "14      0            350406   7.8542   NaN        S  \n",
       "15      0            248706  16.0000   NaN        S  \n",
       "16      1            382652  29.1250   NaN        Q  \n",
       "17      0            244373  13.0000   NaN        S  \n",
       "18      0            345763  18.0000   NaN        S  \n",
       "19      0              2649   7.2250   NaN        C  "
      ]
     },
     "execution_count": 2,
     "metadata": {},
     "output_type": "execute_result"
    }
   ],
   "source": [
    "train = pd.read_csv (\"/kaggle/input/titanic/train.csv\")\n",
    "train.head(20)\n",
    "#train.shape"
   ]
  },
  {
   "cell_type": "code",
   "execution_count": 3,
   "id": "7505f66e",
   "metadata": {
    "execution": {
     "iopub.execute_input": "2023-02-15T18:41:45.254181Z",
     "iopub.status.busy": "2023-02-15T18:41:45.253876Z",
     "iopub.status.idle": "2023-02-15T18:41:45.271987Z",
     "shell.execute_reply": "2023-02-15T18:41:45.271390Z"
    },
    "papermill": {
     "duration": 0.029237,
     "end_time": "2023-02-15T18:41:45.273545",
     "exception": false,
     "start_time": "2023-02-15T18:41:45.244308",
     "status": "completed"
    },
    "tags": []
   },
   "outputs": [
    {
     "data": {
      "text/html": [
       "<div>\n",
       "<style scoped>\n",
       "    .dataframe tbody tr th:only-of-type {\n",
       "        vertical-align: middle;\n",
       "    }\n",
       "\n",
       "    .dataframe tbody tr th {\n",
       "        vertical-align: top;\n",
       "    }\n",
       "\n",
       "    .dataframe thead th {\n",
       "        text-align: right;\n",
       "    }\n",
       "</style>\n",
       "<table border=\"1\" class=\"dataframe\">\n",
       "  <thead>\n",
       "    <tr style=\"text-align: right;\">\n",
       "      <th></th>\n",
       "      <th>PassengerId</th>\n",
       "      <th>Pclass</th>\n",
       "      <th>Name</th>\n",
       "      <th>Sex</th>\n",
       "      <th>Age</th>\n",
       "      <th>SibSp</th>\n",
       "      <th>Parch</th>\n",
       "      <th>Ticket</th>\n",
       "      <th>Fare</th>\n",
       "      <th>Cabin</th>\n",
       "      <th>Embarked</th>\n",
       "    </tr>\n",
       "  </thead>\n",
       "  <tbody>\n",
       "    <tr>\n",
       "      <th>0</th>\n",
       "      <td>892</td>\n",
       "      <td>3</td>\n",
       "      <td>Kelly, Mr. James</td>\n",
       "      <td>male</td>\n",
       "      <td>34.5</td>\n",
       "      <td>0</td>\n",
       "      <td>0</td>\n",
       "      <td>330911</td>\n",
       "      <td>7.8292</td>\n",
       "      <td>NaN</td>\n",
       "      <td>Q</td>\n",
       "    </tr>\n",
       "    <tr>\n",
       "      <th>1</th>\n",
       "      <td>893</td>\n",
       "      <td>3</td>\n",
       "      <td>Wilkes, Mrs. James (Ellen Needs)</td>\n",
       "      <td>female</td>\n",
       "      <td>47.0</td>\n",
       "      <td>1</td>\n",
       "      <td>0</td>\n",
       "      <td>363272</td>\n",
       "      <td>7.0000</td>\n",
       "      <td>NaN</td>\n",
       "      <td>S</td>\n",
       "    </tr>\n",
       "    <tr>\n",
       "      <th>2</th>\n",
       "      <td>894</td>\n",
       "      <td>2</td>\n",
       "      <td>Myles, Mr. Thomas Francis</td>\n",
       "      <td>male</td>\n",
       "      <td>62.0</td>\n",
       "      <td>0</td>\n",
       "      <td>0</td>\n",
       "      <td>240276</td>\n",
       "      <td>9.6875</td>\n",
       "      <td>NaN</td>\n",
       "      <td>Q</td>\n",
       "    </tr>\n",
       "    <tr>\n",
       "      <th>3</th>\n",
       "      <td>895</td>\n",
       "      <td>3</td>\n",
       "      <td>Wirz, Mr. Albert</td>\n",
       "      <td>male</td>\n",
       "      <td>27.0</td>\n",
       "      <td>0</td>\n",
       "      <td>0</td>\n",
       "      <td>315154</td>\n",
       "      <td>8.6625</td>\n",
       "      <td>NaN</td>\n",
       "      <td>S</td>\n",
       "    </tr>\n",
       "    <tr>\n",
       "      <th>4</th>\n",
       "      <td>896</td>\n",
       "      <td>3</td>\n",
       "      <td>Hirvonen, Mrs. Alexander (Helga E Lindqvist)</td>\n",
       "      <td>female</td>\n",
       "      <td>22.0</td>\n",
       "      <td>1</td>\n",
       "      <td>1</td>\n",
       "      <td>3101298</td>\n",
       "      <td>12.2875</td>\n",
       "      <td>NaN</td>\n",
       "      <td>S</td>\n",
       "    </tr>\n",
       "  </tbody>\n",
       "</table>\n",
       "</div>"
      ],
      "text/plain": [
       "   PassengerId  Pclass                                          Name     Sex  \\\n",
       "0          892       3                              Kelly, Mr. James    male   \n",
       "1          893       3              Wilkes, Mrs. James (Ellen Needs)  female   \n",
       "2          894       2                     Myles, Mr. Thomas Francis    male   \n",
       "3          895       3                              Wirz, Mr. Albert    male   \n",
       "4          896       3  Hirvonen, Mrs. Alexander (Helga E Lindqvist)  female   \n",
       "\n",
       "    Age  SibSp  Parch   Ticket     Fare Cabin Embarked  \n",
       "0  34.5      0      0   330911   7.8292   NaN        Q  \n",
       "1  47.0      1      0   363272   7.0000   NaN        S  \n",
       "2  62.0      0      0   240276   9.6875   NaN        Q  \n",
       "3  27.0      0      0   315154   8.6625   NaN        S  \n",
       "4  22.0      1      1  3101298  12.2875   NaN        S  "
      ]
     },
     "execution_count": 3,
     "metadata": {},
     "output_type": "execute_result"
    }
   ],
   "source": [
    "test = pd.read_csv(\"/kaggle/input/titanic/test.csv\")\n",
    "# test.shape\n",
    "test.head()"
   ]
  },
  {
   "cell_type": "code",
   "execution_count": 4,
   "id": "231ec99f",
   "metadata": {
    "execution": {
     "iopub.execute_input": "2023-02-15T18:41:45.293645Z",
     "iopub.status.busy": "2023-02-15T18:41:45.293181Z",
     "iopub.status.idle": "2023-02-15T18:41:45.320929Z",
     "shell.execute_reply": "2023-02-15T18:41:45.320123Z"
    },
    "papermill": {
     "duration": 0.039676,
     "end_time": "2023-02-15T18:41:45.323481",
     "exception": false,
     "start_time": "2023-02-15T18:41:45.283805",
     "status": "completed"
    },
    "tags": []
   },
   "outputs": [
    {
     "name": "stdout",
     "output_type": "stream",
     "text": [
      "<class 'pandas.core.frame.DataFrame'>\n",
      "RangeIndex: 891 entries, 0 to 890\n",
      "Data columns (total 12 columns):\n",
      " #   Column       Non-Null Count  Dtype  \n",
      "---  ------       --------------  -----  \n",
      " 0   PassengerId  891 non-null    int64  \n",
      " 1   Survived     891 non-null    int64  \n",
      " 2   Pclass       891 non-null    int64  \n",
      " 3   Name         891 non-null    object \n",
      " 4   Sex          891 non-null    object \n",
      " 5   Age          714 non-null    float64\n",
      " 6   SibSp        891 non-null    int64  \n",
      " 7   Parch        891 non-null    int64  \n",
      " 8   Ticket       891 non-null    object \n",
      " 9   Fare         891 non-null    float64\n",
      " 10  Cabin        204 non-null    object \n",
      " 11  Embarked     889 non-null    object \n",
      "dtypes: float64(2), int64(5), object(5)\n",
      "memory usage: 83.7+ KB\n",
      "None\n",
      "________________________________________\n",
      "<class 'pandas.core.frame.DataFrame'>\n",
      "RangeIndex: 418 entries, 0 to 417\n",
      "Data columns (total 11 columns):\n",
      " #   Column       Non-Null Count  Dtype  \n",
      "---  ------       --------------  -----  \n",
      " 0   PassengerId  418 non-null    int64  \n",
      " 1   Pclass       418 non-null    int64  \n",
      " 2   Name         418 non-null    object \n",
      " 3   Sex          418 non-null    object \n",
      " 4   Age          332 non-null    float64\n",
      " 5   SibSp        418 non-null    int64  \n",
      " 6   Parch        418 non-null    int64  \n",
      " 7   Ticket       418 non-null    object \n",
      " 8   Fare         417 non-null    float64\n",
      " 9   Cabin        91 non-null     object \n",
      " 10  Embarked     418 non-null    object \n",
      "dtypes: float64(2), int64(4), object(5)\n",
      "memory usage: 36.0+ KB\n",
      "None\n"
     ]
    }
   ],
   "source": [
    "all1 = [train,test]\n",
    "\n",
    "print(train.info())\n",
    "print (\"_\"*40)\n",
    "print(test.info())"
   ]
  },
  {
   "cell_type": "code",
   "execution_count": 5,
   "id": "6740266a",
   "metadata": {
    "execution": {
     "iopub.execute_input": "2023-02-15T18:41:45.344046Z",
     "iopub.status.busy": "2023-02-15T18:41:45.343572Z",
     "iopub.status.idle": "2023-02-15T18:41:45.379889Z",
     "shell.execute_reply": "2023-02-15T18:41:45.378988Z"
    },
    "papermill": {
     "duration": 0.048129,
     "end_time": "2023-02-15T18:41:45.381737",
     "exception": false,
     "start_time": "2023-02-15T18:41:45.333608",
     "status": "completed"
    },
    "tags": []
   },
   "outputs": [
    {
     "data": {
      "text/html": [
       "<div>\n",
       "<style scoped>\n",
       "    .dataframe tbody tr th:only-of-type {\n",
       "        vertical-align: middle;\n",
       "    }\n",
       "\n",
       "    .dataframe tbody tr th {\n",
       "        vertical-align: top;\n",
       "    }\n",
       "\n",
       "    .dataframe thead th {\n",
       "        text-align: right;\n",
       "    }\n",
       "</style>\n",
       "<table border=\"1\" class=\"dataframe\">\n",
       "  <thead>\n",
       "    <tr style=\"text-align: right;\">\n",
       "      <th></th>\n",
       "      <th>PassengerId</th>\n",
       "      <th>Survived</th>\n",
       "      <th>Pclass</th>\n",
       "      <th>Name</th>\n",
       "      <th>Sex</th>\n",
       "      <th>Age</th>\n",
       "      <th>SibSp</th>\n",
       "      <th>Parch</th>\n",
       "      <th>Ticket</th>\n",
       "      <th>Fare</th>\n",
       "      <th>Cabin</th>\n",
       "      <th>Embarked</th>\n",
       "    </tr>\n",
       "  </thead>\n",
       "  <tbody>\n",
       "    <tr>\n",
       "      <th>count</th>\n",
       "      <td>891.000000</td>\n",
       "      <td>891.000000</td>\n",
       "      <td>891.000000</td>\n",
       "      <td>891</td>\n",
       "      <td>891</td>\n",
       "      <td>714.000000</td>\n",
       "      <td>891.000000</td>\n",
       "      <td>891.000000</td>\n",
       "      <td>891</td>\n",
       "      <td>891.000000</td>\n",
       "      <td>204</td>\n",
       "      <td>889</td>\n",
       "    </tr>\n",
       "    <tr>\n",
       "      <th>unique</th>\n",
       "      <td>NaN</td>\n",
       "      <td>NaN</td>\n",
       "      <td>NaN</td>\n",
       "      <td>891</td>\n",
       "      <td>2</td>\n",
       "      <td>NaN</td>\n",
       "      <td>NaN</td>\n",
       "      <td>NaN</td>\n",
       "      <td>681</td>\n",
       "      <td>NaN</td>\n",
       "      <td>147</td>\n",
       "      <td>3</td>\n",
       "    </tr>\n",
       "    <tr>\n",
       "      <th>top</th>\n",
       "      <td>NaN</td>\n",
       "      <td>NaN</td>\n",
       "      <td>NaN</td>\n",
       "      <td>Braund, Mr. Owen Harris</td>\n",
       "      <td>male</td>\n",
       "      <td>NaN</td>\n",
       "      <td>NaN</td>\n",
       "      <td>NaN</td>\n",
       "      <td>347082</td>\n",
       "      <td>NaN</td>\n",
       "      <td>B96 B98</td>\n",
       "      <td>S</td>\n",
       "    </tr>\n",
       "    <tr>\n",
       "      <th>freq</th>\n",
       "      <td>NaN</td>\n",
       "      <td>NaN</td>\n",
       "      <td>NaN</td>\n",
       "      <td>1</td>\n",
       "      <td>577</td>\n",
       "      <td>NaN</td>\n",
       "      <td>NaN</td>\n",
       "      <td>NaN</td>\n",
       "      <td>7</td>\n",
       "      <td>NaN</td>\n",
       "      <td>4</td>\n",
       "      <td>644</td>\n",
       "    </tr>\n",
       "    <tr>\n",
       "      <th>mean</th>\n",
       "      <td>446.000000</td>\n",
       "      <td>0.383838</td>\n",
       "      <td>2.308642</td>\n",
       "      <td>NaN</td>\n",
       "      <td>NaN</td>\n",
       "      <td>29.699118</td>\n",
       "      <td>0.523008</td>\n",
       "      <td>0.381594</td>\n",
       "      <td>NaN</td>\n",
       "      <td>32.204208</td>\n",
       "      <td>NaN</td>\n",
       "      <td>NaN</td>\n",
       "    </tr>\n",
       "    <tr>\n",
       "      <th>std</th>\n",
       "      <td>257.353842</td>\n",
       "      <td>0.486592</td>\n",
       "      <td>0.836071</td>\n",
       "      <td>NaN</td>\n",
       "      <td>NaN</td>\n",
       "      <td>14.526497</td>\n",
       "      <td>1.102743</td>\n",
       "      <td>0.806057</td>\n",
       "      <td>NaN</td>\n",
       "      <td>49.693429</td>\n",
       "      <td>NaN</td>\n",
       "      <td>NaN</td>\n",
       "    </tr>\n",
       "    <tr>\n",
       "      <th>min</th>\n",
       "      <td>1.000000</td>\n",
       "      <td>0.000000</td>\n",
       "      <td>1.000000</td>\n",
       "      <td>NaN</td>\n",
       "      <td>NaN</td>\n",
       "      <td>0.420000</td>\n",
       "      <td>0.000000</td>\n",
       "      <td>0.000000</td>\n",
       "      <td>NaN</td>\n",
       "      <td>0.000000</td>\n",
       "      <td>NaN</td>\n",
       "      <td>NaN</td>\n",
       "    </tr>\n",
       "    <tr>\n",
       "      <th>25%</th>\n",
       "      <td>223.500000</td>\n",
       "      <td>0.000000</td>\n",
       "      <td>2.000000</td>\n",
       "      <td>NaN</td>\n",
       "      <td>NaN</td>\n",
       "      <td>20.125000</td>\n",
       "      <td>0.000000</td>\n",
       "      <td>0.000000</td>\n",
       "      <td>NaN</td>\n",
       "      <td>7.910400</td>\n",
       "      <td>NaN</td>\n",
       "      <td>NaN</td>\n",
       "    </tr>\n",
       "    <tr>\n",
       "      <th>50%</th>\n",
       "      <td>446.000000</td>\n",
       "      <td>0.000000</td>\n",
       "      <td>3.000000</td>\n",
       "      <td>NaN</td>\n",
       "      <td>NaN</td>\n",
       "      <td>28.000000</td>\n",
       "      <td>0.000000</td>\n",
       "      <td>0.000000</td>\n",
       "      <td>NaN</td>\n",
       "      <td>14.454200</td>\n",
       "      <td>NaN</td>\n",
       "      <td>NaN</td>\n",
       "    </tr>\n",
       "    <tr>\n",
       "      <th>75%</th>\n",
       "      <td>668.500000</td>\n",
       "      <td>1.000000</td>\n",
       "      <td>3.000000</td>\n",
       "      <td>NaN</td>\n",
       "      <td>NaN</td>\n",
       "      <td>38.000000</td>\n",
       "      <td>1.000000</td>\n",
       "      <td>0.000000</td>\n",
       "      <td>NaN</td>\n",
       "      <td>31.000000</td>\n",
       "      <td>NaN</td>\n",
       "      <td>NaN</td>\n",
       "    </tr>\n",
       "    <tr>\n",
       "      <th>max</th>\n",
       "      <td>891.000000</td>\n",
       "      <td>1.000000</td>\n",
       "      <td>3.000000</td>\n",
       "      <td>NaN</td>\n",
       "      <td>NaN</td>\n",
       "      <td>80.000000</td>\n",
       "      <td>8.000000</td>\n",
       "      <td>6.000000</td>\n",
       "      <td>NaN</td>\n",
       "      <td>512.329200</td>\n",
       "      <td>NaN</td>\n",
       "      <td>NaN</td>\n",
       "    </tr>\n",
       "  </tbody>\n",
       "</table>\n",
       "</div>"
      ],
      "text/plain": [
       "        PassengerId    Survived      Pclass                     Name   Sex  \\\n",
       "count    891.000000  891.000000  891.000000                      891   891   \n",
       "unique          NaN         NaN         NaN                      891     2   \n",
       "top             NaN         NaN         NaN  Braund, Mr. Owen Harris  male   \n",
       "freq            NaN         NaN         NaN                        1   577   \n",
       "mean     446.000000    0.383838    2.308642                      NaN   NaN   \n",
       "std      257.353842    0.486592    0.836071                      NaN   NaN   \n",
       "min        1.000000    0.000000    1.000000                      NaN   NaN   \n",
       "25%      223.500000    0.000000    2.000000                      NaN   NaN   \n",
       "50%      446.000000    0.000000    3.000000                      NaN   NaN   \n",
       "75%      668.500000    1.000000    3.000000                      NaN   NaN   \n",
       "max      891.000000    1.000000    3.000000                      NaN   NaN   \n",
       "\n",
       "               Age       SibSp       Parch  Ticket        Fare    Cabin  \\\n",
       "count   714.000000  891.000000  891.000000     891  891.000000      204   \n",
       "unique         NaN         NaN         NaN     681         NaN      147   \n",
       "top            NaN         NaN         NaN  347082         NaN  B96 B98   \n",
       "freq           NaN         NaN         NaN       7         NaN        4   \n",
       "mean     29.699118    0.523008    0.381594     NaN   32.204208      NaN   \n",
       "std      14.526497    1.102743    0.806057     NaN   49.693429      NaN   \n",
       "min       0.420000    0.000000    0.000000     NaN    0.000000      NaN   \n",
       "25%      20.125000    0.000000    0.000000     NaN    7.910400      NaN   \n",
       "50%      28.000000    0.000000    0.000000     NaN   14.454200      NaN   \n",
       "75%      38.000000    1.000000    0.000000     NaN   31.000000      NaN   \n",
       "max      80.000000    8.000000    6.000000     NaN  512.329200      NaN   \n",
       "\n",
       "       Embarked  \n",
       "count       889  \n",
       "unique        3  \n",
       "top           S  \n",
       "freq        644  \n",
       "mean        NaN  \n",
       "std         NaN  \n",
       "min         NaN  \n",
       "25%         NaN  \n",
       "50%         NaN  \n",
       "75%         NaN  \n",
       "max         NaN  "
      ]
     },
     "execution_count": 5,
     "metadata": {},
     "output_type": "execute_result"
    }
   ],
   "source": [
    "train.describe(include='all')"
   ]
  },
  {
   "cell_type": "code",
   "execution_count": 6,
   "id": "9df150fb",
   "metadata": {
    "execution": {
     "iopub.execute_input": "2023-02-15T18:41:45.402008Z",
     "iopub.status.busy": "2023-02-15T18:41:45.401425Z",
     "iopub.status.idle": "2023-02-15T18:41:45.410126Z",
     "shell.execute_reply": "2023-02-15T18:41:45.409359Z"
    },
    "papermill": {
     "duration": 0.020909,
     "end_time": "2023-02-15T18:41:45.411898",
     "exception": false,
     "start_time": "2023-02-15T18:41:45.390989",
     "status": "completed"
    },
    "tags": []
   },
   "outputs": [
    {
     "data": {
      "text/plain": [
       "Cabin\n",
       "C23 C25 C27    4\n",
       "G6             4\n",
       "B96 B98        4\n",
       "F2             3\n",
       "C22 C26        3\n",
       "              ..\n",
       "C101           1\n",
       "B94            1\n",
       "B86            1\n",
       "B82 B84        1\n",
       "T              1\n",
       "Length: 147, dtype: int64"
      ]
     },
     "execution_count": 6,
     "metadata": {},
     "output_type": "execute_result"
    }
   ],
   "source": [
    "#Label summarize in Cabin feature\n",
    "train.groupby(['Cabin']).size().sort_values(ascending=False)"
   ]
  },
  {
   "cell_type": "code",
   "execution_count": 7,
   "id": "7d6ac578",
   "metadata": {
    "execution": {
     "iopub.execute_input": "2023-02-15T18:41:45.431858Z",
     "iopub.status.busy": "2023-02-15T18:41:45.431507Z",
     "iopub.status.idle": "2023-02-15T18:41:45.441445Z",
     "shell.execute_reply": "2023-02-15T18:41:45.440706Z"
    },
    "papermill": {
     "duration": 0.022055,
     "end_time": "2023-02-15T18:41:45.443215",
     "exception": false,
     "start_time": "2023-02-15T18:41:45.421160",
     "status": "completed"
    },
    "tags": []
   },
   "outputs": [
    {
     "data": {
      "text/plain": [
       "Ticket\n",
       "1601        7\n",
       "CA. 2343    7\n",
       "347082      7\n",
       "CA 2144     6\n",
       "347088      6\n",
       "           ..\n",
       "345572      1\n",
       "345364      1\n",
       "343276      1\n",
       "343275      1\n",
       "347464      1\n",
       "Length: 681, dtype: int64"
      ]
     },
     "execution_count": 7,
     "metadata": {},
     "output_type": "execute_result"
    }
   ],
   "source": [
    "#Label summarize in Ticket feature\n",
    "train.groupby(['Ticket']).size().sort_values(ascending=False)"
   ]
  },
  {
   "cell_type": "code",
   "execution_count": 8,
   "id": "da79540d",
   "metadata": {
    "execution": {
     "iopub.execute_input": "2023-02-15T18:41:45.462923Z",
     "iopub.status.busy": "2023-02-15T18:41:45.462193Z",
     "iopub.status.idle": "2023-02-15T18:41:45.470880Z",
     "shell.execute_reply": "2023-02-15T18:41:45.469519Z"
    },
    "papermill": {
     "duration": 0.020516,
     "end_time": "2023-02-15T18:41:45.472934",
     "exception": false,
     "start_time": "2023-02-15T18:41:45.452418",
     "status": "completed"
    },
    "tags": []
   },
   "outputs": [
    {
     "name": "stdout",
     "output_type": "stream",
     "text": [
      "PassengerId      0\n",
      "Survived         0\n",
      "Pclass           0\n",
      "Name             0\n",
      "Sex              0\n",
      "Age            177\n",
      "SibSp            0\n",
      "Parch            0\n",
      "Ticket           0\n",
      "Fare             0\n",
      "Cabin          687\n",
      "Embarked         2\n",
      "dtype: int64\n",
      "__________\n",
      "PassengerId      0\n",
      "Pclass           0\n",
      "Name             0\n",
      "Sex              0\n",
      "Age             86\n",
      "SibSp            0\n",
      "Parch            0\n",
      "Ticket           0\n",
      "Fare             1\n",
      "Cabin          327\n",
      "Embarked         0\n",
      "dtype: int64\n"
     ]
    }
   ],
   "source": [
    "#Features with NULL values\n",
    "print(train.isnull().sum())\n",
    "print(\"_\"*10)\n",
    "print(test.isnull().sum())"
   ]
  },
  {
   "cell_type": "markdown",
   "id": "de7344a3",
   "metadata": {
    "papermill": {
     "duration": 0.008889,
     "end_time": "2023-02-15T18:41:45.491386",
     "exception": false,
     "start_time": "2023-02-15T18:41:45.482497",
     "status": "completed"
    },
    "tags": []
   },
   "source": [
    "### **FEATURE ENGINEERING**\n",
    "\n",
    "To confirm some of our observations and assumptions, we can quickly analyze our feature correlations by pivoting features against Survived feature.\n"
   ]
  },
  {
   "cell_type": "markdown",
   "id": "7df3ae0a",
   "metadata": {
    "papermill": {
     "duration": 0.008832,
     "end_time": "2023-02-15T18:41:45.509132",
     "exception": false,
     "start_time": "2023-02-15T18:41:45.500300",
     "status": "completed"
    },
    "tags": []
   },
   "source": [
    "### **1. Pclass**"
   ]
  },
  {
   "cell_type": "code",
   "execution_count": 9,
   "id": "15f4a5c8",
   "metadata": {
    "execution": {
     "iopub.execute_input": "2023-02-15T18:41:45.528982Z",
     "iopub.status.busy": "2023-02-15T18:41:45.528400Z",
     "iopub.status.idle": "2023-02-15T18:41:45.540780Z",
     "shell.execute_reply": "2023-02-15T18:41:45.540121Z"
    },
    "papermill": {
     "duration": 0.024318,
     "end_time": "2023-02-15T18:41:45.542479",
     "exception": false,
     "start_time": "2023-02-15T18:41:45.518161",
     "status": "completed"
    },
    "tags": []
   },
   "outputs": [
    {
     "data": {
      "text/html": [
       "<div>\n",
       "<style scoped>\n",
       "    .dataframe tbody tr th:only-of-type {\n",
       "        vertical-align: middle;\n",
       "    }\n",
       "\n",
       "    .dataframe tbody tr th {\n",
       "        vertical-align: top;\n",
       "    }\n",
       "\n",
       "    .dataframe thead th {\n",
       "        text-align: right;\n",
       "    }\n",
       "</style>\n",
       "<table border=\"1\" class=\"dataframe\">\n",
       "  <thead>\n",
       "    <tr style=\"text-align: right;\">\n",
       "      <th></th>\n",
       "      <th>Survived</th>\n",
       "    </tr>\n",
       "    <tr>\n",
       "      <th>Pclass</th>\n",
       "      <th></th>\n",
       "    </tr>\n",
       "  </thead>\n",
       "  <tbody>\n",
       "    <tr>\n",
       "      <th>1</th>\n",
       "      <td>0.629630</td>\n",
       "    </tr>\n",
       "    <tr>\n",
       "      <th>2</th>\n",
       "      <td>0.472826</td>\n",
       "    </tr>\n",
       "    <tr>\n",
       "      <th>3</th>\n",
       "      <td>0.242363</td>\n",
       "    </tr>\n",
       "  </tbody>\n",
       "</table>\n",
       "</div>"
      ],
      "text/plain": [
       "        Survived\n",
       "Pclass          \n",
       "1       0.629630\n",
       "2       0.472826\n",
       "3       0.242363"
      ]
     },
     "execution_count": 9,
     "metadata": {},
     "output_type": "execute_result"
    }
   ],
   "source": [
    "#Pivoting Features (Correlations) Pclass vs Survived \n",
    "train[['Pclass','Survived']].groupby(by='Pclass').mean().sort_values(by='Survived', ascending=False)"
   ]
  },
  {
   "cell_type": "markdown",
   "id": "0ab65cd6",
   "metadata": {
    "papermill": {
     "duration": 0.009074,
     "end_time": "2023-02-15T18:41:45.560819",
     "exception": false,
     "start_time": "2023-02-15T18:41:45.551745",
     "status": "completed"
    },
    "tags": []
   },
   "source": [
    "### **2. Sex**"
   ]
  },
  {
   "cell_type": "code",
   "execution_count": 10,
   "id": "579664f8",
   "metadata": {
    "execution": {
     "iopub.execute_input": "2023-02-15T18:41:45.580723Z",
     "iopub.status.busy": "2023-02-15T18:41:45.580210Z",
     "iopub.status.idle": "2023-02-15T18:41:45.591008Z",
     "shell.execute_reply": "2023-02-15T18:41:45.589991Z"
    },
    "papermill": {
     "duration": 0.023579,
     "end_time": "2023-02-15T18:41:45.593490",
     "exception": false,
     "start_time": "2023-02-15T18:41:45.569911",
     "status": "completed"
    },
    "tags": []
   },
   "outputs": [
    {
     "data": {
      "text/html": [
       "<div>\n",
       "<style scoped>\n",
       "    .dataframe tbody tr th:only-of-type {\n",
       "        vertical-align: middle;\n",
       "    }\n",
       "\n",
       "    .dataframe tbody tr th {\n",
       "        vertical-align: top;\n",
       "    }\n",
       "\n",
       "    .dataframe thead th {\n",
       "        text-align: right;\n",
       "    }\n",
       "</style>\n",
       "<table border=\"1\" class=\"dataframe\">\n",
       "  <thead>\n",
       "    <tr style=\"text-align: right;\">\n",
       "      <th></th>\n",
       "      <th>Survived</th>\n",
       "    </tr>\n",
       "    <tr>\n",
       "      <th>Sex</th>\n",
       "      <th></th>\n",
       "    </tr>\n",
       "  </thead>\n",
       "  <tbody>\n",
       "    <tr>\n",
       "      <th>female</th>\n",
       "      <td>0.742038</td>\n",
       "    </tr>\n",
       "    <tr>\n",
       "      <th>male</th>\n",
       "      <td>0.188908</td>\n",
       "    </tr>\n",
       "  </tbody>\n",
       "</table>\n",
       "</div>"
      ],
      "text/plain": [
       "        Survived\n",
       "Sex             \n",
       "female  0.742038\n",
       "male    0.188908"
      ]
     },
     "execution_count": 10,
     "metadata": {},
     "output_type": "execute_result"
    }
   ],
   "source": [
    "#Pivoting Features (Correlation) Sex vs Survived\n",
    "train[['Sex','Survived']].groupby(['Sex']).mean().sort_values(['Survived'], ascending=False)"
   ]
  },
  {
   "cell_type": "markdown",
   "id": "1a177ddd",
   "metadata": {
    "papermill": {
     "duration": 0.009351,
     "end_time": "2023-02-15T18:41:45.612966",
     "exception": false,
     "start_time": "2023-02-15T18:41:45.603615",
     "status": "completed"
    },
    "tags": []
   },
   "source": [
    "### **3. SibSp and Parch**\n",
    "\n",
    "\n",
    "With the number of siblings/spouse and the number of children/parents we can create new feature called Family Size.\n"
   ]
  },
  {
   "cell_type": "code",
   "execution_count": 11,
   "id": "a13ad2e3",
   "metadata": {
    "execution": {
     "iopub.execute_input": "2023-02-15T18:41:45.634072Z",
     "iopub.status.busy": "2023-02-15T18:41:45.633051Z",
     "iopub.status.idle": "2023-02-15T18:41:45.647568Z",
     "shell.execute_reply": "2023-02-15T18:41:45.646670Z"
    },
    "papermill": {
     "duration": 0.027106,
     "end_time": "2023-02-15T18:41:45.649429",
     "exception": false,
     "start_time": "2023-02-15T18:41:45.622323",
     "status": "completed"
    },
    "tags": []
   },
   "outputs": [
    {
     "data": {
      "text/html": [
       "<div>\n",
       "<style scoped>\n",
       "    .dataframe tbody tr th:only-of-type {\n",
       "        vertical-align: middle;\n",
       "    }\n",
       "\n",
       "    .dataframe tbody tr th {\n",
       "        vertical-align: top;\n",
       "    }\n",
       "\n",
       "    .dataframe thead th {\n",
       "        text-align: right;\n",
       "    }\n",
       "</style>\n",
       "<table border=\"1\" class=\"dataframe\">\n",
       "  <thead>\n",
       "    <tr style=\"text-align: right;\">\n",
       "      <th></th>\n",
       "      <th>Survived</th>\n",
       "    </tr>\n",
       "    <tr>\n",
       "      <th>FamilySize</th>\n",
       "      <th></th>\n",
       "    </tr>\n",
       "  </thead>\n",
       "  <tbody>\n",
       "    <tr>\n",
       "      <th>3</th>\n",
       "      <td>0.724138</td>\n",
       "    </tr>\n",
       "    <tr>\n",
       "      <th>2</th>\n",
       "      <td>0.578431</td>\n",
       "    </tr>\n",
       "    <tr>\n",
       "      <th>1</th>\n",
       "      <td>0.552795</td>\n",
       "    </tr>\n",
       "    <tr>\n",
       "      <th>6</th>\n",
       "      <td>0.333333</td>\n",
       "    </tr>\n",
       "    <tr>\n",
       "      <th>0</th>\n",
       "      <td>0.303538</td>\n",
       "    </tr>\n",
       "    <tr>\n",
       "      <th>4</th>\n",
       "      <td>0.200000</td>\n",
       "    </tr>\n",
       "    <tr>\n",
       "      <th>5</th>\n",
       "      <td>0.136364</td>\n",
       "    </tr>\n",
       "    <tr>\n",
       "      <th>7</th>\n",
       "      <td>0.000000</td>\n",
       "    </tr>\n",
       "    <tr>\n",
       "      <th>10</th>\n",
       "      <td>0.000000</td>\n",
       "    </tr>\n",
       "  </tbody>\n",
       "</table>\n",
       "</div>"
      ],
      "text/plain": [
       "            Survived\n",
       "FamilySize          \n",
       "3           0.724138\n",
       "2           0.578431\n",
       "1           0.552795\n",
       "6           0.333333\n",
       "0           0.303538\n",
       "4           0.200000\n",
       "5           0.136364\n",
       "7           0.000000\n",
       "10          0.000000"
      ]
     },
     "execution_count": 11,
     "metadata": {},
     "output_type": "execute_result"
    }
   ],
   "source": [
    "#Creating FamilySize (SibSp+Parch) and Pivoting Features (Correlations) FamilySize vs Survived \n",
    "for dataset in all1:\n",
    "    dataset['FamilySize'] = dataset['SibSp'] + dataset['Parch']\n",
    "\n",
    "train[['FamilySize','Survived']].groupby(['FamilySize']).mean().sort_values(['Survived'], ascending=False)\n"
   ]
  },
  {
   "cell_type": "code",
   "execution_count": 12,
   "id": "5f39fa4a",
   "metadata": {
    "execution": {
     "iopub.execute_input": "2023-02-15T18:41:45.671375Z",
     "iopub.status.busy": "2023-02-15T18:41:45.670271Z",
     "iopub.status.idle": "2023-02-15T18:41:45.684422Z",
     "shell.execute_reply": "2023-02-15T18:41:45.683418Z"
    },
    "papermill": {
     "duration": 0.026938,
     "end_time": "2023-02-15T18:41:45.686359",
     "exception": false,
     "start_time": "2023-02-15T18:41:45.659421",
     "status": "completed"
    },
    "tags": []
   },
   "outputs": [
    {
     "data": {
      "text/html": [
       "<div>\n",
       "<style scoped>\n",
       "    .dataframe tbody tr th:only-of-type {\n",
       "        vertical-align: middle;\n",
       "    }\n",
       "\n",
       "    .dataframe tbody tr th {\n",
       "        vertical-align: top;\n",
       "    }\n",
       "\n",
       "    .dataframe thead th {\n",
       "        text-align: right;\n",
       "    }\n",
       "</style>\n",
       "<table border=\"1\" class=\"dataframe\">\n",
       "  <thead>\n",
       "    <tr style=\"text-align: right;\">\n",
       "      <th></th>\n",
       "      <th>Survived</th>\n",
       "    </tr>\n",
       "    <tr>\n",
       "      <th>IsAlone</th>\n",
       "      <th></th>\n",
       "    </tr>\n",
       "  </thead>\n",
       "  <tbody>\n",
       "    <tr>\n",
       "      <th>1</th>\n",
       "      <td>0.552795</td>\n",
       "    </tr>\n",
       "    <tr>\n",
       "      <th>0</th>\n",
       "      <td>0.346575</td>\n",
       "    </tr>\n",
       "  </tbody>\n",
       "</table>\n",
       "</div>"
      ],
      "text/plain": [
       "         Survived\n",
       "IsAlone          \n",
       "1        0.552795\n",
       "0        0.346575"
      ]
     },
     "execution_count": 12,
     "metadata": {},
     "output_type": "execute_result"
    }
   ],
   "source": [
    "#Creating a binary variable IsAlone from FamilySize\n",
    "for dataset in all1:\n",
    "    dataset['IsAlone'] = 0\n",
    "    dataset.loc[dataset['FamilySize'] == 1, 'IsAlone'] = 1\n",
    "    \n",
    "train[['IsAlone','Survived']].groupby(['IsAlone']).mean().sort_values(['Survived'], ascending=False)\n"
   ]
  },
  {
   "cell_type": "markdown",
   "id": "315dd111",
   "metadata": {
    "papermill": {
     "duration": 0.009318,
     "end_time": "2023-02-15T18:41:45.705755",
     "exception": false,
     "start_time": "2023-02-15T18:41:45.696437",
     "status": "completed"
    },
    "tags": []
   },
   "source": [
    "### **4. Embarked**\n",
    "Embarked feature has some missing values and we replace them with mode ( 'S' )"
   ]
  },
  {
   "cell_type": "code",
   "execution_count": 13,
   "id": "0ab93697",
   "metadata": {
    "execution": {
     "iopub.execute_input": "2023-02-15T18:41:45.726047Z",
     "iopub.status.busy": "2023-02-15T18:41:45.725672Z",
     "iopub.status.idle": "2023-02-15T18:41:45.739657Z",
     "shell.execute_reply": "2023-02-15T18:41:45.738647Z"
    },
    "papermill": {
     "duration": 0.026454,
     "end_time": "2023-02-15T18:41:45.741576",
     "exception": false,
     "start_time": "2023-02-15T18:41:45.715122",
     "status": "completed"
    },
    "tags": []
   },
   "outputs": [
    {
     "data": {
      "text/html": [
       "<div>\n",
       "<style scoped>\n",
       "    .dataframe tbody tr th:only-of-type {\n",
       "        vertical-align: middle;\n",
       "    }\n",
       "\n",
       "    .dataframe tbody tr th {\n",
       "        vertical-align: top;\n",
       "    }\n",
       "\n",
       "    .dataframe thead th {\n",
       "        text-align: right;\n",
       "    }\n",
       "</style>\n",
       "<table border=\"1\" class=\"dataframe\">\n",
       "  <thead>\n",
       "    <tr style=\"text-align: right;\">\n",
       "      <th></th>\n",
       "      <th>Survived</th>\n",
       "    </tr>\n",
       "    <tr>\n",
       "      <th>Embarked</th>\n",
       "      <th></th>\n",
       "    </tr>\n",
       "  </thead>\n",
       "  <tbody>\n",
       "    <tr>\n",
       "      <th>C</th>\n",
       "      <td>0.553571</td>\n",
       "    </tr>\n",
       "    <tr>\n",
       "      <th>Q</th>\n",
       "      <td>0.389610</td>\n",
       "    </tr>\n",
       "    <tr>\n",
       "      <th>S</th>\n",
       "      <td>0.339009</td>\n",
       "    </tr>\n",
       "  </tbody>\n",
       "</table>\n",
       "</div>"
      ],
      "text/plain": [
       "          Survived\n",
       "Embarked          \n",
       "C         0.553571\n",
       "Q         0.389610\n",
       "S         0.339009"
      ]
     },
     "execution_count": 13,
     "metadata": {},
     "output_type": "execute_result"
    }
   ],
   "source": [
    "for dataset in all1:\n",
    "    dataset['Embarked'] = dataset['Embarked'].fillna('S')\n",
    "\n",
    "train[['Embarked','Survived']].groupby(['Embarked']).mean().sort_values(['Survived'], ascending=False)"
   ]
  },
  {
   "cell_type": "markdown",
   "id": "7ae9c877",
   "metadata": {
    "papermill": {
     "duration": 0.00984,
     "end_time": "2023-02-15T18:41:45.761744",
     "exception": false,
     "start_time": "2023-02-15T18:41:45.751904",
     "status": "completed"
    },
    "tags": []
   },
   "source": [
    "### **5. Fare**\n",
    "Fare also has some missing values and we replace them with median. Then we categorize Fare in 4 ranges or bins using 'qcut' that sets ranges with same number of values in each one."
   ]
  },
  {
   "cell_type": "code",
   "execution_count": 14,
   "id": "8abd020c",
   "metadata": {
    "execution": {
     "iopub.execute_input": "2023-02-15T18:41:45.784031Z",
     "iopub.status.busy": "2023-02-15T18:41:45.783459Z",
     "iopub.status.idle": "2023-02-15T18:41:45.810082Z",
     "shell.execute_reply": "2023-02-15T18:41:45.809124Z"
    },
    "papermill": {
     "duration": 0.040176,
     "end_time": "2023-02-15T18:41:45.812086",
     "exception": false,
     "start_time": "2023-02-15T18:41:45.771910",
     "status": "completed"
    },
    "tags": []
   },
   "outputs": [
    {
     "data": {
      "text/html": [
       "<div>\n",
       "<style scoped>\n",
       "    .dataframe tbody tr th:only-of-type {\n",
       "        vertical-align: middle;\n",
       "    }\n",
       "\n",
       "    .dataframe tbody tr th {\n",
       "        vertical-align: top;\n",
       "    }\n",
       "\n",
       "    .dataframe thead th {\n",
       "        text-align: right;\n",
       "    }\n",
       "</style>\n",
       "<table border=\"1\" class=\"dataframe\">\n",
       "  <thead>\n",
       "    <tr style=\"text-align: right;\">\n",
       "      <th></th>\n",
       "      <th>Survived</th>\n",
       "    </tr>\n",
       "    <tr>\n",
       "      <th>FareCat</th>\n",
       "      <th></th>\n",
       "    </tr>\n",
       "  </thead>\n",
       "  <tbody>\n",
       "    <tr>\n",
       "      <th>(31.0, 512.329]</th>\n",
       "      <td>0.581081</td>\n",
       "    </tr>\n",
       "    <tr>\n",
       "      <th>(14.454, 31.0]</th>\n",
       "      <td>0.454955</td>\n",
       "    </tr>\n",
       "    <tr>\n",
       "      <th>(7.91, 14.454]</th>\n",
       "      <td>0.303571</td>\n",
       "    </tr>\n",
       "    <tr>\n",
       "      <th>(-0.001, 7.91]</th>\n",
       "      <td>0.197309</td>\n",
       "    </tr>\n",
       "  </tbody>\n",
       "</table>\n",
       "</div>"
      ],
      "text/plain": [
       "                 Survived\n",
       "FareCat                  \n",
       "(31.0, 512.329]  0.581081\n",
       "(14.454, 31.0]   0.454955\n",
       "(7.91, 14.454]   0.303571\n",
       "(-0.001, 7.91]   0.197309"
      ]
     },
     "execution_count": 14,
     "metadata": {},
     "output_type": "execute_result"
    }
   ],
   "source": [
    "for dataset in all1:\n",
    "    dataset['Fare'] = dataset['Fare'].fillna(train['Fare'].median())\n",
    "    dataset['FareCat'] = pd.qcut(dataset['Fare'],4)\n",
    "train[['FareCat','Survived']].groupby(['FareCat']).mean().sort_values(['Survived'],ascending=False)"
   ]
  },
  {
   "cell_type": "markdown",
   "id": "75ca148f",
   "metadata": {
    "papermill": {
     "duration": 0.009967,
     "end_time": "2023-02-15T18:41:45.832554",
     "exception": false,
     "start_time": "2023-02-15T18:41:45.822587",
     "status": "completed"
    },
    "tags": []
   },
   "source": [
    "### **6. Age**\n",
    "This feature has plenty of missing values. In order to complete them we generate random numbers between (mean +- std) and then we categorize age in 5 ranges using 'cut' (ranges with same lenth each one)"
   ]
  },
  {
   "cell_type": "code",
   "execution_count": 15,
   "id": "1f8fe296",
   "metadata": {
    "execution": {
     "iopub.execute_input": "2023-02-15T18:41:45.854490Z",
     "iopub.status.busy": "2023-02-15T18:41:45.854154Z",
     "iopub.status.idle": "2023-02-15T18:41:45.879144Z",
     "shell.execute_reply": "2023-02-15T18:41:45.878005Z"
    },
    "papermill": {
     "duration": 0.038335,
     "end_time": "2023-02-15T18:41:45.881080",
     "exception": false,
     "start_time": "2023-02-15T18:41:45.842745",
     "status": "completed"
    },
    "tags": []
   },
   "outputs": [
    {
     "name": "stderr",
     "output_type": "stream",
     "text": [
      "/opt/conda/lib/python3.7/site-packages/ipykernel_launcher.py:8: SettingWithCopyWarning: \n",
      "A value is trying to be set on a copy of a slice from a DataFrame\n",
      "\n",
      "See the caveats in the documentation: https://pandas.pydata.org/pandas-docs/stable/user_guide/indexing.html#returning-a-view-versus-a-copy\n",
      "  \n"
     ]
    },
    {
     "data": {
      "text/html": [
       "<div>\n",
       "<style scoped>\n",
       "    .dataframe tbody tr th:only-of-type {\n",
       "        vertical-align: middle;\n",
       "    }\n",
       "\n",
       "    .dataframe tbody tr th {\n",
       "        vertical-align: top;\n",
       "    }\n",
       "\n",
       "    .dataframe thead th {\n",
       "        text-align: right;\n",
       "    }\n",
       "</style>\n",
       "<table border=\"1\" class=\"dataframe\">\n",
       "  <thead>\n",
       "    <tr style=\"text-align: right;\">\n",
       "      <th></th>\n",
       "      <th>Survived</th>\n",
       "    </tr>\n",
       "    <tr>\n",
       "      <th>AgeCat</th>\n",
       "      <th></th>\n",
       "    </tr>\n",
       "  </thead>\n",
       "  <tbody>\n",
       "    <tr>\n",
       "      <th>(-0.08, 16.0]</th>\n",
       "      <td>0.500000</td>\n",
       "    </tr>\n",
       "    <tr>\n",
       "      <th>(48.0, 64.0]</th>\n",
       "      <td>0.434783</td>\n",
       "    </tr>\n",
       "    <tr>\n",
       "      <th>(16.0, 32.0]</th>\n",
       "      <td>0.372460</td>\n",
       "    </tr>\n",
       "    <tr>\n",
       "      <th>(32.0, 48.0]</th>\n",
       "      <td>0.351562</td>\n",
       "    </tr>\n",
       "    <tr>\n",
       "      <th>(64.0, 80.0]</th>\n",
       "      <td>0.090909</td>\n",
       "    </tr>\n",
       "  </tbody>\n",
       "</table>\n",
       "</div>"
      ],
      "text/plain": [
       "               Survived\n",
       "AgeCat                 \n",
       "(-0.08, 16.0]  0.500000\n",
       "(48.0, 64.0]   0.434783\n",
       "(16.0, 32.0]   0.372460\n",
       "(32.0, 48.0]   0.351562\n",
       "(64.0, 80.0]   0.090909"
      ]
     },
     "execution_count": 15,
     "metadata": {},
     "output_type": "execute_result"
    }
   ],
   "source": [
    "#Complete\n",
    "for dataset in all1:\n",
    "    age_avg = dataset['Age'].mean()\n",
    "    age_std = dataset['Age'].std()\n",
    "    age_null_count = dataset['Age'].isnull().sum()\n",
    "    \n",
    "    age_null_random_list = np.random.randint(age_avg-age_std,age_avg+age_std, size = age_null_count)\n",
    "    dataset['Age'][np.isnan(dataset['Age'])] = age_null_random_list\n",
    "    dataset['Age']=dataset['Age'].astype(int)\n",
    "\n",
    "#Categorize\n",
    "    dataset['AgeCat'] = pd.cut(dataset['Age'],5)\n",
    "\n",
    "#Correlation AgeCat vs Survive\n",
    "train[['AgeCat','Survived']].groupby(['AgeCat']).mean().sort_values(['Survived'], ascending=False)\n"
   ]
  },
  {
   "cell_type": "markdown",
   "id": "02586893",
   "metadata": {
    "papermill": {
     "duration": 0.009777,
     "end_time": "2023-02-15T18:41:45.901169",
     "exception": false,
     "start_time": "2023-02-15T18:41:45.891392",
     "status": "completed"
    },
    "tags": []
   },
   "source": [
    "### **7. Name**\n",
    "We can extract relevant information from titles in Name feature"
   ]
  },
  {
   "cell_type": "code",
   "execution_count": 16,
   "id": "50974d8b",
   "metadata": {
    "execution": {
     "iopub.execute_input": "2023-02-15T18:41:45.922476Z",
     "iopub.status.busy": "2023-02-15T18:41:45.922142Z",
     "iopub.status.idle": "2023-02-15T18:41:45.950608Z",
     "shell.execute_reply": "2023-02-15T18:41:45.949331Z"
    },
    "papermill": {
     "duration": 0.04146,
     "end_time": "2023-02-15T18:41:45.952524",
     "exception": false,
     "start_time": "2023-02-15T18:41:45.911064",
     "status": "completed"
    },
    "tags": []
   },
   "outputs": [
    {
     "data": {
      "text/html": [
       "<div>\n",
       "<style scoped>\n",
       "    .dataframe tbody tr th:only-of-type {\n",
       "        vertical-align: middle;\n",
       "    }\n",
       "\n",
       "    .dataframe tbody tr th {\n",
       "        vertical-align: top;\n",
       "    }\n",
       "\n",
       "    .dataframe thead th {\n",
       "        text-align: right;\n",
       "    }\n",
       "</style>\n",
       "<table border=\"1\" class=\"dataframe\">\n",
       "  <thead>\n",
       "    <tr style=\"text-align: right;\">\n",
       "      <th>Sex</th>\n",
       "      <th>female</th>\n",
       "      <th>male</th>\n",
       "    </tr>\n",
       "    <tr>\n",
       "      <th>Title</th>\n",
       "      <th></th>\n",
       "      <th></th>\n",
       "    </tr>\n",
       "  </thead>\n",
       "  <tbody>\n",
       "    <tr>\n",
       "      <th>Capt</th>\n",
       "      <td>0</td>\n",
       "      <td>1</td>\n",
       "    </tr>\n",
       "    <tr>\n",
       "      <th>Col</th>\n",
       "      <td>0</td>\n",
       "      <td>2</td>\n",
       "    </tr>\n",
       "    <tr>\n",
       "      <th>Countess</th>\n",
       "      <td>1</td>\n",
       "      <td>0</td>\n",
       "    </tr>\n",
       "    <tr>\n",
       "      <th>Don</th>\n",
       "      <td>0</td>\n",
       "      <td>1</td>\n",
       "    </tr>\n",
       "    <tr>\n",
       "      <th>Dr</th>\n",
       "      <td>1</td>\n",
       "      <td>6</td>\n",
       "    </tr>\n",
       "    <tr>\n",
       "      <th>Jonkheer</th>\n",
       "      <td>0</td>\n",
       "      <td>1</td>\n",
       "    </tr>\n",
       "    <tr>\n",
       "      <th>Lady</th>\n",
       "      <td>1</td>\n",
       "      <td>0</td>\n",
       "    </tr>\n",
       "    <tr>\n",
       "      <th>Major</th>\n",
       "      <td>0</td>\n",
       "      <td>2</td>\n",
       "    </tr>\n",
       "    <tr>\n",
       "      <th>Master</th>\n",
       "      <td>0</td>\n",
       "      <td>40</td>\n",
       "    </tr>\n",
       "    <tr>\n",
       "      <th>Miss</th>\n",
       "      <td>182</td>\n",
       "      <td>0</td>\n",
       "    </tr>\n",
       "    <tr>\n",
       "      <th>Mlle</th>\n",
       "      <td>2</td>\n",
       "      <td>0</td>\n",
       "    </tr>\n",
       "    <tr>\n",
       "      <th>Mme</th>\n",
       "      <td>1</td>\n",
       "      <td>0</td>\n",
       "    </tr>\n",
       "    <tr>\n",
       "      <th>Mr</th>\n",
       "      <td>0</td>\n",
       "      <td>517</td>\n",
       "    </tr>\n",
       "    <tr>\n",
       "      <th>Mrs</th>\n",
       "      <td>125</td>\n",
       "      <td>0</td>\n",
       "    </tr>\n",
       "    <tr>\n",
       "      <th>Ms</th>\n",
       "      <td>1</td>\n",
       "      <td>0</td>\n",
       "    </tr>\n",
       "    <tr>\n",
       "      <th>Rev</th>\n",
       "      <td>0</td>\n",
       "      <td>6</td>\n",
       "    </tr>\n",
       "    <tr>\n",
       "      <th>Sir</th>\n",
       "      <td>0</td>\n",
       "      <td>1</td>\n",
       "    </tr>\n",
       "  </tbody>\n",
       "</table>\n",
       "</div>"
      ],
      "text/plain": [
       "Sex       female  male\n",
       "Title                 \n",
       "Capt           0     1\n",
       "Col            0     2\n",
       "Countess       1     0\n",
       "Don            0     1\n",
       "Dr             1     6\n",
       "Jonkheer       0     1\n",
       "Lady           1     0\n",
       "Major          0     2\n",
       "Master         0    40\n",
       "Miss         182     0\n",
       "Mlle           2     0\n",
       "Mme            1     0\n",
       "Mr             0   517\n",
       "Mrs          125     0\n",
       "Ms             1     0\n",
       "Rev            0     6\n",
       "Sir            0     1"
      ]
     },
     "execution_count": 16,
     "metadata": {},
     "output_type": "execute_result"
    }
   ],
   "source": [
    "#Extracting Title from Name and creating a new feature\n",
    "for dataset in all1:\n",
    "       dataset['Title']= dataset['Name'].str.extract(' ([A-Za-z]+)\\.', expand = False)\n",
    "\n",
    "pd.crosstab(train['Title'], train['Sex'])"
   ]
  },
  {
   "cell_type": "code",
   "execution_count": 17,
   "id": "1293e486",
   "metadata": {
    "execution": {
     "iopub.execute_input": "2023-02-15T18:41:45.975140Z",
     "iopub.status.busy": "2023-02-15T18:41:45.974778Z",
     "iopub.status.idle": "2023-02-15T18:41:45.987983Z",
     "shell.execute_reply": "2023-02-15T18:41:45.987087Z"
    },
    "papermill": {
     "duration": 0.026635,
     "end_time": "2023-02-15T18:41:45.989907",
     "exception": false,
     "start_time": "2023-02-15T18:41:45.963272",
     "status": "completed"
    },
    "tags": []
   },
   "outputs": [
    {
     "data": {
      "text/html": [
       "<div>\n",
       "<style scoped>\n",
       "    .dataframe tbody tr th:only-of-type {\n",
       "        vertical-align: middle;\n",
       "    }\n",
       "\n",
       "    .dataframe tbody tr th {\n",
       "        vertical-align: top;\n",
       "    }\n",
       "\n",
       "    .dataframe thead th {\n",
       "        text-align: right;\n",
       "    }\n",
       "</style>\n",
       "<table border=\"1\" class=\"dataframe\">\n",
       "  <thead>\n",
       "    <tr style=\"text-align: right;\">\n",
       "      <th></th>\n",
       "      <th>Survived</th>\n",
       "    </tr>\n",
       "    <tr>\n",
       "      <th>Title</th>\n",
       "      <th></th>\n",
       "    </tr>\n",
       "  </thead>\n",
       "  <tbody>\n",
       "    <tr>\n",
       "      <th>Sir</th>\n",
       "      <td>1.000000</td>\n",
       "    </tr>\n",
       "    <tr>\n",
       "      <th>Countess</th>\n",
       "      <td>1.000000</td>\n",
       "    </tr>\n",
       "    <tr>\n",
       "      <th>Ms</th>\n",
       "      <td>1.000000</td>\n",
       "    </tr>\n",
       "    <tr>\n",
       "      <th>Mme</th>\n",
       "      <td>1.000000</td>\n",
       "    </tr>\n",
       "    <tr>\n",
       "      <th>Lady</th>\n",
       "      <td>1.000000</td>\n",
       "    </tr>\n",
       "    <tr>\n",
       "      <th>Mlle</th>\n",
       "      <td>1.000000</td>\n",
       "    </tr>\n",
       "    <tr>\n",
       "      <th>Mrs</th>\n",
       "      <td>0.792000</td>\n",
       "    </tr>\n",
       "    <tr>\n",
       "      <th>Miss</th>\n",
       "      <td>0.697802</td>\n",
       "    </tr>\n",
       "    <tr>\n",
       "      <th>Master</th>\n",
       "      <td>0.575000</td>\n",
       "    </tr>\n",
       "    <tr>\n",
       "      <th>Col</th>\n",
       "      <td>0.500000</td>\n",
       "    </tr>\n",
       "    <tr>\n",
       "      <th>Major</th>\n",
       "      <td>0.500000</td>\n",
       "    </tr>\n",
       "    <tr>\n",
       "      <th>Dr</th>\n",
       "      <td>0.428571</td>\n",
       "    </tr>\n",
       "    <tr>\n",
       "      <th>Mr</th>\n",
       "      <td>0.156673</td>\n",
       "    </tr>\n",
       "    <tr>\n",
       "      <th>Jonkheer</th>\n",
       "      <td>0.000000</td>\n",
       "    </tr>\n",
       "    <tr>\n",
       "      <th>Don</th>\n",
       "      <td>0.000000</td>\n",
       "    </tr>\n",
       "    <tr>\n",
       "      <th>Rev</th>\n",
       "      <td>0.000000</td>\n",
       "    </tr>\n",
       "    <tr>\n",
       "      <th>Capt</th>\n",
       "      <td>0.000000</td>\n",
       "    </tr>\n",
       "  </tbody>\n",
       "</table>\n",
       "</div>"
      ],
      "text/plain": [
       "          Survived\n",
       "Title             \n",
       "Sir       1.000000\n",
       "Countess  1.000000\n",
       "Ms        1.000000\n",
       "Mme       1.000000\n",
       "Lady      1.000000\n",
       "Mlle      1.000000\n",
       "Mrs       0.792000\n",
       "Miss      0.697802\n",
       "Master    0.575000\n",
       "Col       0.500000\n",
       "Major     0.500000\n",
       "Dr        0.428571\n",
       "Mr        0.156673\n",
       "Jonkheer  0.000000\n",
       "Don       0.000000\n",
       "Rev       0.000000\n",
       "Capt      0.000000"
      ]
     },
     "execution_count": 17,
     "metadata": {},
     "output_type": "execute_result"
    }
   ],
   "source": [
    "#Correlation Title vs Survive\n",
    "train[['Title','Survived']].groupby(['Title']).mean().sort_values(['Survived'], ascending=False)"
   ]
  },
  {
   "cell_type": "code",
   "execution_count": 18,
   "id": "c16fe4e6",
   "metadata": {
    "execution": {
     "iopub.execute_input": "2023-02-15T18:41:46.013567Z",
     "iopub.status.busy": "2023-02-15T18:41:46.013116Z",
     "iopub.status.idle": "2023-02-15T18:41:46.034480Z",
     "shell.execute_reply": "2023-02-15T18:41:46.033078Z"
    },
    "papermill": {
     "duration": 0.035512,
     "end_time": "2023-02-15T18:41:46.036170",
     "exception": false,
     "start_time": "2023-02-15T18:41:46.000658",
     "status": "completed"
    },
    "tags": []
   },
   "outputs": [
    {
     "data": {
      "text/html": [
       "<div>\n",
       "<style scoped>\n",
       "    .dataframe tbody tr th:only-of-type {\n",
       "        vertical-align: middle;\n",
       "    }\n",
       "\n",
       "    .dataframe tbody tr th {\n",
       "        vertical-align: top;\n",
       "    }\n",
       "\n",
       "    .dataframe thead th {\n",
       "        text-align: right;\n",
       "    }\n",
       "</style>\n",
       "<table border=\"1\" class=\"dataframe\">\n",
       "  <thead>\n",
       "    <tr style=\"text-align: right;\">\n",
       "      <th></th>\n",
       "      <th>Survived</th>\n",
       "    </tr>\n",
       "    <tr>\n",
       "      <th>Title</th>\n",
       "      <th></th>\n",
       "    </tr>\n",
       "  </thead>\n",
       "  <tbody>\n",
       "    <tr>\n",
       "      <th>Mrs</th>\n",
       "      <td>0.793651</td>\n",
       "    </tr>\n",
       "    <tr>\n",
       "      <th>Miss</th>\n",
       "      <td>0.702703</td>\n",
       "    </tr>\n",
       "    <tr>\n",
       "      <th>Master</th>\n",
       "      <td>0.575000</td>\n",
       "    </tr>\n",
       "    <tr>\n",
       "      <th>Rare</th>\n",
       "      <td>0.347826</td>\n",
       "    </tr>\n",
       "    <tr>\n",
       "      <th>Mr</th>\n",
       "      <td>0.156673</td>\n",
       "    </tr>\n",
       "  </tbody>\n",
       "</table>\n",
       "</div>"
      ],
      "text/plain": [
       "        Survived\n",
       "Title           \n",
       "Mrs     0.793651\n",
       "Miss    0.702703\n",
       "Master  0.575000\n",
       "Rare    0.347826\n",
       "Mr      0.156673"
      ]
     },
     "execution_count": 18,
     "metadata": {},
     "output_type": "execute_result"
    }
   ],
   "source": [
    "#Categorize Title and label the uncommon ones as Rare (less than 10)\n",
    "for dataset in all1:\n",
    "    dataset['Title'] = dataset['Title'].replace(['Lady','Countess','Capt','Col','Don','Dr','Major','Rev','Sir','Jonkheer','Dona'], 'Rare')\n",
    "    \n",
    "    dataset['Title'] = dataset['Title'].replace(['Mlle', 'Ms'], 'Miss')\n",
    "    dataset['Title'] = dataset['Title'].replace('Mme', 'Mrs')\n",
    "\n",
    "#Correlation Title vs Survive\n",
    "train[['Title','Survived']].groupby(['Title']).mean().sort_values(['Survived'],ascending=False)\n"
   ]
  },
  {
   "cell_type": "code",
   "execution_count": 19,
   "id": "aa6adc91",
   "metadata": {
    "execution": {
     "iopub.execute_input": "2023-02-15T18:41:46.059336Z",
     "iopub.status.busy": "2023-02-15T18:41:46.058860Z",
     "iopub.status.idle": "2023-02-15T18:41:46.077709Z",
     "shell.execute_reply": "2023-02-15T18:41:46.076775Z"
    },
    "papermill": {
     "duration": 0.03232,
     "end_time": "2023-02-15T18:41:46.079493",
     "exception": false,
     "start_time": "2023-02-15T18:41:46.047173",
     "status": "completed"
    },
    "tags": []
   },
   "outputs": [
    {
     "data": {
      "text/html": [
       "<div>\n",
       "<style scoped>\n",
       "    .dataframe tbody tr th:only-of-type {\n",
       "        vertical-align: middle;\n",
       "    }\n",
       "\n",
       "    .dataframe tbody tr th {\n",
       "        vertical-align: top;\n",
       "    }\n",
       "\n",
       "    .dataframe thead th {\n",
       "        text-align: right;\n",
       "    }\n",
       "</style>\n",
       "<table border=\"1\" class=\"dataframe\">\n",
       "  <thead>\n",
       "    <tr style=\"text-align: right;\">\n",
       "      <th></th>\n",
       "      <th>PassengerId</th>\n",
       "      <th>Pclass</th>\n",
       "      <th>Name</th>\n",
       "      <th>Sex</th>\n",
       "      <th>Age</th>\n",
       "      <th>SibSp</th>\n",
       "      <th>Parch</th>\n",
       "      <th>Ticket</th>\n",
       "      <th>Fare</th>\n",
       "      <th>Cabin</th>\n",
       "      <th>Embarked</th>\n",
       "      <th>FamilySize</th>\n",
       "      <th>IsAlone</th>\n",
       "      <th>FareCat</th>\n",
       "      <th>AgeCat</th>\n",
       "      <th>Title</th>\n",
       "    </tr>\n",
       "  </thead>\n",
       "  <tbody>\n",
       "    <tr>\n",
       "      <th>0</th>\n",
       "      <td>892</td>\n",
       "      <td>3</td>\n",
       "      <td>Kelly, Mr. James</td>\n",
       "      <td>male</td>\n",
       "      <td>34</td>\n",
       "      <td>0</td>\n",
       "      <td>0</td>\n",
       "      <td>330911</td>\n",
       "      <td>7.8292</td>\n",
       "      <td>NaN</td>\n",
       "      <td>Q</td>\n",
       "      <td>0</td>\n",
       "      <td>0</td>\n",
       "      <td>(-0.001, 7.896]</td>\n",
       "      <td>(30.4, 45.6]</td>\n",
       "      <td>Mr</td>\n",
       "    </tr>\n",
       "    <tr>\n",
       "      <th>1</th>\n",
       "      <td>893</td>\n",
       "      <td>3</td>\n",
       "      <td>Wilkes, Mrs. James (Ellen Needs)</td>\n",
       "      <td>female</td>\n",
       "      <td>47</td>\n",
       "      <td>1</td>\n",
       "      <td>0</td>\n",
       "      <td>363272</td>\n",
       "      <td>7.0000</td>\n",
       "      <td>NaN</td>\n",
       "      <td>S</td>\n",
       "      <td>1</td>\n",
       "      <td>1</td>\n",
       "      <td>(-0.001, 7.896]</td>\n",
       "      <td>(45.6, 60.8]</td>\n",
       "      <td>Mrs</td>\n",
       "    </tr>\n",
       "    <tr>\n",
       "      <th>2</th>\n",
       "      <td>894</td>\n",
       "      <td>2</td>\n",
       "      <td>Myles, Mr. Thomas Francis</td>\n",
       "      <td>male</td>\n",
       "      <td>62</td>\n",
       "      <td>0</td>\n",
       "      <td>0</td>\n",
       "      <td>240276</td>\n",
       "      <td>9.6875</td>\n",
       "      <td>NaN</td>\n",
       "      <td>Q</td>\n",
       "      <td>0</td>\n",
       "      <td>0</td>\n",
       "      <td>(7.896, 14.454]</td>\n",
       "      <td>(60.8, 76.0]</td>\n",
       "      <td>Mr</td>\n",
       "    </tr>\n",
       "    <tr>\n",
       "      <th>3</th>\n",
       "      <td>895</td>\n",
       "      <td>3</td>\n",
       "      <td>Wirz, Mr. Albert</td>\n",
       "      <td>male</td>\n",
       "      <td>27</td>\n",
       "      <td>0</td>\n",
       "      <td>0</td>\n",
       "      <td>315154</td>\n",
       "      <td>8.6625</td>\n",
       "      <td>NaN</td>\n",
       "      <td>S</td>\n",
       "      <td>0</td>\n",
       "      <td>0</td>\n",
       "      <td>(7.896, 14.454]</td>\n",
       "      <td>(15.2, 30.4]</td>\n",
       "      <td>Mr</td>\n",
       "    </tr>\n",
       "    <tr>\n",
       "      <th>4</th>\n",
       "      <td>896</td>\n",
       "      <td>3</td>\n",
       "      <td>Hirvonen, Mrs. Alexander (Helga E Lindqvist)</td>\n",
       "      <td>female</td>\n",
       "      <td>22</td>\n",
       "      <td>1</td>\n",
       "      <td>1</td>\n",
       "      <td>3101298</td>\n",
       "      <td>12.2875</td>\n",
       "      <td>NaN</td>\n",
       "      <td>S</td>\n",
       "      <td>2</td>\n",
       "      <td>0</td>\n",
       "      <td>(7.896, 14.454]</td>\n",
       "      <td>(15.2, 30.4]</td>\n",
       "      <td>Mrs</td>\n",
       "    </tr>\n",
       "  </tbody>\n",
       "</table>\n",
       "</div>"
      ],
      "text/plain": [
       "   PassengerId  Pclass                                          Name     Sex  \\\n",
       "0          892       3                              Kelly, Mr. James    male   \n",
       "1          893       3              Wilkes, Mrs. James (Ellen Needs)  female   \n",
       "2          894       2                     Myles, Mr. Thomas Francis    male   \n",
       "3          895       3                              Wirz, Mr. Albert    male   \n",
       "4          896       3  Hirvonen, Mrs. Alexander (Helga E Lindqvist)  female   \n",
       "\n",
       "   Age  SibSp  Parch   Ticket     Fare Cabin Embarked  FamilySize  IsAlone  \\\n",
       "0   34      0      0   330911   7.8292   NaN        Q           0        0   \n",
       "1   47      1      0   363272   7.0000   NaN        S           1        1   \n",
       "2   62      0      0   240276   9.6875   NaN        Q           0        0   \n",
       "3   27      0      0   315154   8.6625   NaN        S           0        0   \n",
       "4   22      1      1  3101298  12.2875   NaN        S           2        0   \n",
       "\n",
       "           FareCat        AgeCat Title  \n",
       "0  (-0.001, 7.896]  (30.4, 45.6]    Mr  \n",
       "1  (-0.001, 7.896]  (45.6, 60.8]   Mrs  \n",
       "2  (7.896, 14.454]  (60.8, 76.0]    Mr  \n",
       "3  (7.896, 14.454]  (15.2, 30.4]    Mr  \n",
       "4  (7.896, 14.454]  (15.2, 30.4]   Mrs  "
      ]
     },
     "execution_count": 19,
     "metadata": {},
     "output_type": "execute_result"
    }
   ],
   "source": [
    "test.head()"
   ]
  },
  {
   "cell_type": "markdown",
   "id": "0d358b35",
   "metadata": {
    "papermill": {
     "duration": 0.010759,
     "end_time": "2023-02-15T18:41:46.101420",
     "exception": false,
     "start_time": "2023-02-15T18:41:46.090661",
     "status": "completed"
    },
    "tags": []
   },
   "source": [
    "### **ENCODING CATEGORICAL FEATURES**\n",
    "Featrues with categorical values are encoded using Label Encoding from Sklearn (OrdinalEncoder for features and LabelEncoder for target)"
   ]
  },
  {
   "cell_type": "code",
   "execution_count": 20,
   "id": "eb30a521",
   "metadata": {
    "execution": {
     "iopub.execute_input": "2023-02-15T18:41:46.124886Z",
     "iopub.status.busy": "2023-02-15T18:41:46.124552Z",
     "iopub.status.idle": "2023-02-15T18:41:46.157085Z",
     "shell.execute_reply": "2023-02-15T18:41:46.155977Z"
    },
    "papermill": {
     "duration": 0.046889,
     "end_time": "2023-02-15T18:41:46.159316",
     "exception": false,
     "start_time": "2023-02-15T18:41:46.112427",
     "status": "completed"
    },
    "tags": []
   },
   "outputs": [],
   "source": [
    "enc = OrdinalEncoder()\n",
    "\n",
    "for dataset in all1:\n",
    "    dataset[['SexEnc']] = enc.fit_transform(dataset[['Sex']])\n",
    "    dataset[['EmbarkedEnc']] = enc.fit_transform(dataset[['Embarked']])\n",
    "    dataset[['FareEnc']] = enc.fit_transform(dataset[['FareCat']])\n",
    "    dataset[['AgeEnc']] = enc.fit_transform(dataset[['AgeCat']])\n",
    "    dataset[['TitleEnc']] = enc.fit_transform(dataset[['Title']])\n"
   ]
  },
  {
   "cell_type": "markdown",
   "id": "e7e60880",
   "metadata": {
    "papermill": {
     "duration": 0.010667,
     "end_time": "2023-02-15T18:41:46.181196",
     "exception": false,
     "start_time": "2023-02-15T18:41:46.170529",
     "status": "completed"
    },
    "tags": []
   },
   "source": [
    "### **FEATURE SELECTION**"
   ]
  },
  {
   "cell_type": "code",
   "execution_count": null,
   "id": "f9732f67",
   "metadata": {
    "papermill": {
     "duration": 0.010532,
     "end_time": "2023-02-15T18:41:46.202912",
     "exception": false,
     "start_time": "2023-02-15T18:41:46.192380",
     "status": "completed"
    },
    "tags": []
   },
   "outputs": [],
   "source": []
  },
  {
   "cell_type": "code",
   "execution_count": 21,
   "id": "a3bc22c0",
   "metadata": {
    "execution": {
     "iopub.execute_input": "2023-02-15T18:41:46.226242Z",
     "iopub.status.busy": "2023-02-15T18:41:46.225890Z",
     "iopub.status.idle": "2023-02-15T18:41:46.238159Z",
     "shell.execute_reply": "2023-02-15T18:41:46.237065Z"
    },
    "papermill": {
     "duration": 0.0267,
     "end_time": "2023-02-15T18:41:46.240620",
     "exception": false,
     "start_time": "2023-02-15T18:41:46.213920",
     "status": "completed"
    },
    "tags": []
   },
   "outputs": [
    {
     "data": {
      "text/plain": [
       "((891, 7), (891,), (418, 7))"
      ]
     },
     "execution_count": 21,
     "metadata": {},
     "output_type": "execute_result"
    }
   ],
   "source": [
    "selected_features = ['Pclass', 'IsAlone', 'SexEnc', 'EmbarkedEnc','FareEnc','AgeEnc', 'TitleEnc']\n",
    "X = train[selected_features].values\n",
    "testxy = test [selected_features].values\n",
    "\n",
    "y = train ['Survived'].values\n",
    "\n",
    "X.shape,y.shape, testxy.shape"
   ]
  },
  {
   "cell_type": "code",
   "execution_count": 22,
   "id": "83082925",
   "metadata": {
    "execution": {
     "iopub.execute_input": "2023-02-15T18:41:46.265739Z",
     "iopub.status.busy": "2023-02-15T18:41:46.264863Z",
     "iopub.status.idle": "2023-02-15T18:41:46.283160Z",
     "shell.execute_reply": "2023-02-15T18:41:46.282411Z"
    },
    "papermill": {
     "duration": 0.032987,
     "end_time": "2023-02-15T18:41:46.285370",
     "exception": false,
     "start_time": "2023-02-15T18:41:46.252383",
     "status": "completed"
    },
    "tags": []
   },
   "outputs": [
    {
     "name": "stdout",
     "output_type": "stream",
     "text": [
      "<class 'pandas.core.frame.DataFrame'>\n",
      "RangeIndex: 891 entries, 0 to 890\n",
      "Data columns (total 7 columns):\n",
      " #   Column       Non-Null Count  Dtype  \n",
      "---  ------       --------------  -----  \n",
      " 0   Pclass       891 non-null    int64  \n",
      " 1   IsAlone      891 non-null    int64  \n",
      " 2   SexEnc       891 non-null    float64\n",
      " 3   EmbarkedEnc  891 non-null    float64\n",
      " 4   FareEnc      891 non-null    float64\n",
      " 5   AgeEnc       891 non-null    float64\n",
      " 6   TitleEnc     891 non-null    float64\n",
      "dtypes: float64(5), int64(2)\n",
      "memory usage: 48.9 KB\n",
      "None\n",
      "----------\n",
      "<class 'pandas.core.frame.DataFrame'>\n",
      "RangeIndex: 418 entries, 0 to 417\n",
      "Data columns (total 7 columns):\n",
      " #   Column       Non-Null Count  Dtype  \n",
      "---  ------       --------------  -----  \n",
      " 0   Pclass       418 non-null    int64  \n",
      " 1   IsAlone      418 non-null    int64  \n",
      " 2   SexEnc       418 non-null    float64\n",
      " 3   EmbarkedEnc  418 non-null    float64\n",
      " 4   FareEnc      418 non-null    float64\n",
      " 5   AgeEnc       418 non-null    float64\n",
      " 6   TitleEnc     418 non-null    float64\n",
      "dtypes: float64(5), int64(2)\n",
      "memory usage: 23.0 KB\n",
      "None\n"
     ]
    }
   ],
   "source": [
    "#Check NULL values in features\n",
    "print (train[selected_features].info())\n",
    "print(\"-\"*10)\n",
    "print (test[selected_features].info())\n"
   ]
  },
  {
   "cell_type": "code",
   "execution_count": 23,
   "id": "8f59aa9a",
   "metadata": {
    "execution": {
     "iopub.execute_input": "2023-02-15T18:41:46.309477Z",
     "iopub.status.busy": "2023-02-15T18:41:46.309159Z",
     "iopub.status.idle": "2023-02-15T18:41:46.734657Z",
     "shell.execute_reply": "2023-02-15T18:41:46.733750Z"
    },
    "papermill": {
     "duration": 0.44042,
     "end_time": "2023-02-15T18:41:46.737292",
     "exception": false,
     "start_time": "2023-02-15T18:41:46.296872",
     "status": "completed"
    },
    "tags": []
   },
   "outputs": [
    {
     "data": {
      "text/plain": [
       "<AxesSubplot:title={'center':'Pearson Correlation of Features'}>"
      ]
     },
     "execution_count": 23,
     "metadata": {},
     "output_type": "execute_result"
    },
    {
     "data": {
      "image/png": "[encoded data removed]",
      "text/plain": [
       "<Figure size 1008x864 with 2 Axes>"
      ]
     },
     "metadata": {
      "needs_background": "light"
     },
     "output_type": "display_data"
    }
   ],
   "source": [
    "#Pearson Correlation Heatmap\n",
    "\n",
    "colormap = plt.cm.RdBu\n",
    "plt.figure(figsize=(14,12))\n",
    "plt.title('Pearson Correlation of Features', y=1.05, size=15)\n",
    "sns.heatmap(train[selected_features].astype(float).corr(),linewidths=0.1,vmax=1.0, \n",
    "            square=True, cmap=colormap, linecolor='white', annot=True)"
   ]
  },
  {
   "cell_type": "markdown",
   "id": "6d6e3b76",
   "metadata": {
    "papermill": {
     "duration": 0.012074,
     "end_time": "2023-02-15T18:41:46.765318",
     "exception": false,
     "start_time": "2023-02-15T18:41:46.753244",
     "status": "completed"
    },
    "tags": []
   },
   "source": [
    "### **MODEL BUILDING**"
   ]
  },
  {
   "cell_type": "code",
   "execution_count": 24,
   "id": "1476bedf",
   "metadata": {
    "execution": {
     "iopub.execute_input": "2023-02-15T18:41:46.794426Z",
     "iopub.status.busy": "2023-02-15T18:41:46.793742Z",
     "iopub.status.idle": "2023-02-15T18:41:46.801887Z",
     "shell.execute_reply": "2023-02-15T18:41:46.800771Z"
    },
    "papermill": {
     "duration": 0.025961,
     "end_time": "2023-02-15T18:41:46.803733",
     "exception": false,
     "start_time": "2023-02-15T18:41:46.777772",
     "status": "completed"
    },
    "tags": []
   },
   "outputs": [
    {
     "data": {
      "text/plain": [
       "((534, 7), (357, 7), (534,), (357,))"
      ]
     },
     "execution_count": 24,
     "metadata": {},
     "output_type": "execute_result"
    }
   ],
   "source": [
    "#Train & Test data spliting\n",
    "Xtrain, Xtest, ytrain, ytest = train_test_split(X, y, test_size = 0.4, random_state = 1)\n",
    "\n",
    "Xtrain.shape, Xtest.shape, ytrain.shape, ytest.shape"
   ]
  },
  {
   "cell_type": "code",
   "execution_count": 25,
   "id": "6c46d338",
   "metadata": {
    "execution": {
     "iopub.execute_input": "2023-02-15T18:41:46.830150Z",
     "iopub.status.busy": "2023-02-15T18:41:46.829523Z",
     "iopub.status.idle": "2023-02-15T18:41:46.848593Z",
     "shell.execute_reply": "2023-02-15T18:41:46.847843Z"
    },
    "papermill": {
     "duration": 0.034244,
     "end_time": "2023-02-15T18:41:46.850420",
     "exception": false,
     "start_time": "2023-02-15T18:41:46.816176",
     "status": "completed"
    },
    "tags": []
   },
   "outputs": [
    {
     "data": {
      "text/plain": [
       "SVC()"
      ]
     },
     "execution_count": 25,
     "metadata": {},
     "output_type": "execute_result"
    }
   ],
   "source": [
    "#Suport Vector Machines Model and training\n",
    "clf = SVC ()\n",
    "clf.fit(Xtrain, ytrain)"
   ]
  },
  {
   "cell_type": "code",
   "execution_count": 26,
   "id": "f90a82b5",
   "metadata": {
    "execution": {
     "iopub.execute_input": "2023-02-15T18:41:46.880147Z",
     "iopub.status.busy": "2023-02-15T18:41:46.879550Z",
     "iopub.status.idle": "2023-02-15T18:41:46.889521Z",
     "shell.execute_reply": "2023-02-15T18:41:46.888966Z"
    },
    "papermill": {
     "duration": 0.028233,
     "end_time": "2023-02-15T18:41:46.891481",
     "exception": false,
     "start_time": "2023-02-15T18:41:46.863248",
     "status": "completed"
    },
    "tags": []
   },
   "outputs": [
    {
     "data": {
      "text/plain": [
       "0.7815126050420168"
      ]
     },
     "execution_count": 26,
     "metadata": {},
     "output_type": "execute_result"
    }
   ],
   "source": [
    "#Evaluation - accuracy\n",
    "predict = clf.predict(Xtest)\n",
    "accuracy = accuracy_score(ytest, predict)\n",
    "accuracy"
   ]
  },
  {
   "cell_type": "code",
   "execution_count": 27,
   "id": "6ae05722",
   "metadata": {
    "execution": {
     "iopub.execute_input": "2023-02-15T18:41:46.921482Z",
     "iopub.status.busy": "2023-02-15T18:41:46.921225Z",
     "iopub.status.idle": "2023-02-15T18:41:46.924645Z",
     "shell.execute_reply": "2023-02-15T18:41:46.923838Z"
    },
    "papermill": {
     "duration": 0.018485,
     "end_time": "2023-02-15T18:41:46.926296",
     "exception": false,
     "start_time": "2023-02-15T18:41:46.907811",
     "status": "completed"
    },
    "tags": []
   },
   "outputs": [],
   "source": [
    "# #ExtraTreesClassifier to extract the most important features\n",
    "# forest = ExtraTreesClassifier()\n",
    "# forest.fit(Xtrain, ytrain)\n",
    "# important = forest.feature_importances_\n",
    "# important"
   ]
  },
  {
   "cell_type": "code",
   "execution_count": 28,
   "id": "789d572d",
   "metadata": {
    "execution": {
     "iopub.execute_input": "2023-02-15T18:41:46.951058Z",
     "iopub.status.busy": "2023-02-15T18:41:46.950757Z",
     "iopub.status.idle": "2023-02-15T18:41:46.954706Z",
     "shell.execute_reply": "2023-02-15T18:41:46.953911Z"
    },
    "papermill": {
     "duration": 0.018258,
     "end_time": "2023-02-15T18:41:46.956397",
     "exception": false,
     "start_time": "2023-02-15T18:41:46.938139",
     "status": "completed"
    },
    "tags": []
   },
   "outputs": [],
   "source": [
    "# #New dataset dropping IsAlone (1) and EmbarkedEnc (3)\n",
    "# Xtrain2 = Xtrain[:,[0,2,4,5,6]]\n",
    "# Xtest2 = Xtest[:,[0,2,4,5,6]] \n",
    "\n",
    "# Xtrain2.shape, Xtest2.shape, ytrain.shape, ytest.shape"
   ]
  },
  {
   "cell_type": "code",
   "execution_count": 29,
   "id": "1c75d1e9",
   "metadata": {
    "execution": {
     "iopub.execute_input": "2023-02-15T18:41:46.990221Z",
     "iopub.status.busy": "2023-02-15T18:41:46.989641Z",
     "iopub.status.idle": "2023-02-15T18:41:46.993167Z",
     "shell.execute_reply": "2023-02-15T18:41:46.992482Z"
    },
    "papermill": {
     "duration": 0.02196,
     "end_time": "2023-02-15T18:41:46.994929",
     "exception": false,
     "start_time": "2023-02-15T18:41:46.972969",
     "status": "completed"
    },
    "tags": []
   },
   "outputs": [],
   "source": [
    "# #New Suport Vector Machines Model and training\n",
    "# clf = SVC ()\n",
    "# clf.fit(Xtrain2, ytrain)\n",
    "\n",
    "# #New Evaluation - accuracy\n",
    "# predict2 = clf.predict(Xtest2)\n",
    "# accuracy2 = accuracy_score(ytest, predict2)\n",
    "# accuracy2\n"
   ]
  },
  {
   "cell_type": "markdown",
   "id": "1b4c8a8e",
   "metadata": {
    "papermill": {
     "duration": 0.015336,
     "end_time": "2023-02-15T18:41:47.025867",
     "exception": false,
     "start_time": "2023-02-15T18:41:47.010531",
     "status": "completed"
    },
    "tags": []
   },
   "source": [
    "Same resul than the first SVM model. Let's keep our first approach (and comment 2nd one)"
   ]
  },
  {
   "cell_type": "code",
   "execution_count": 30,
   "id": "5aaaa2d5",
   "metadata": {
    "execution": {
     "iopub.execute_input": "2023-02-15T18:41:47.058700Z",
     "iopub.status.busy": "2023-02-15T18:41:47.057974Z",
     "iopub.status.idle": "2023-02-15T18:41:47.088472Z",
     "shell.execute_reply": "2023-02-15T18:41:47.087449Z"
    },
    "papermill": {
     "duration": 0.049466,
     "end_time": "2023-02-15T18:41:47.090735",
     "exception": false,
     "start_time": "2023-02-15T18:41:47.041269",
     "status": "completed"
    },
    "tags": []
   },
   "outputs": [
    {
     "name": "stdout",
     "output_type": "stream",
     "text": [
      "Your submission was successfully saved!\n"
     ]
    }
   ],
   "source": [
    "#Submission\n",
    "clf = SVC ()\n",
    "clf.fit(Xtrain, ytrain)\n",
    "final_prediction = clf.predict(testxy)\n",
    "\n",
    "output = pd.DataFrame({'PassengerId': test.PassengerId, 'Survived': final_prediction})\n",
    "output.to_csv('submission.csv', index=False)\n",
    "print(\"Your submission was successfully saved!\")"
   ]
  }
 ],
 "metadata": {
  "kernelspec": {
   "display_name": "Python 3",
   "language": "python",
   "name": "python3"
  },
  "language_info": {
   "codemirror_mode": {
    "name": "ipython",
    "version": 3
   },
   "file_extension": ".py",
   "mimetype": "text/x-python",
   "name": "python",
   "nbconvert_exporter": "python",
   "pygments_lexer": "ipython3",
   "version": "3.7.12"
  },
  "papermill": {
   "default_parameters": {},
   "duration": 11.306707,
   "end_time": "2023-02-15T18:41:47.827722",
   "environment_variables": {},
   "exception": null,
   "input_path": "__notebook__.ipynb",
   "output_path": "__notebook__.ipynb",
   "parameters": {},
   "start_time": "2023-02-15T18:41:36.521015",
   "version": "2.3.4"
  }
 },
 "nbformat": 4,
 "nbformat_minor": 5
}
