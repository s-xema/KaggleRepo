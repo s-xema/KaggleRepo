{
 "cells": [
  {
   "cell_type": "markdown",
   "id": "d4d1ad4d",
   "metadata": {
    "papermill": {
     "duration": 0.0052,
     "end_time": "2023-02-27T17:32:43.429749",
     "exception": false,
     "start_time": "2023-02-27T17:32:43.424549",
     "status": "completed"
    },
    "tags": []
   },
   "source": [
    "# Introduction: PipeLines, Cross Validation and XGBoost model.\n",
    "\n",
    "This kernel is created to apply some of the techniques learned in [Intermediate Machine Learning course](https://www.kaggle.com/learn/intermediate-machine-learning) as **PipeLines**, **Cross Validation** and **XGBoost model**. If you find some errors or lack of consistency in this notebook, please let me know, it will be very helpfull \n",
    "\n",
    "The notebook is based on the [Kaggle Housing Prices Competition](https://www.kaggle.com/competitions/home-data-for-ml-course) that provides a dataset with 79 explanatory variables describing aspects of residential homes in Ames, Iowa and challenges to predict the final price of each home."
   ]
  },
  {
   "cell_type": "markdown",
   "id": "e54e729c",
   "metadata": {
    "papermill": {
     "duration": 0.003806,
     "end_time": "2023-02-27T17:32:43.437918",
     "exception": false,
     "start_time": "2023-02-27T17:32:43.434112",
     "status": "completed"
    },
    "tags": []
   },
   "source": [
    "# Import libraries"
   ]
  },
  {
   "cell_type": "code",
   "execution_count": 1,
   "id": "cf020035",
   "metadata": {
    "execution": {
     "iopub.execute_input": "2023-02-27T17:32:43.447880Z",
     "iopub.status.busy": "2023-02-27T17:32:43.447430Z",
     "iopub.status.idle": "2023-02-27T17:32:45.179794Z",
     "shell.execute_reply": "2023-02-27T17:32:45.178717Z"
    },
    "papermill": {
     "duration": 1.740614,
     "end_time": "2023-02-27T17:32:45.182580",
     "exception": false,
     "start_time": "2023-02-27T17:32:43.441966",
     "status": "completed"
    },
    "tags": []
   },
   "outputs": [],
   "source": [
    "import os\n",
    "import pandas as pd\n",
    "\n",
    "from sklearn.compose import ColumnTransformer\n",
    "from sklearn.pipeline import Pipeline\n",
    "from sklearn.impute import SimpleImputer\n",
    "from sklearn.preprocessing import OrdinalEncoder\n",
    "from sklearn.preprocessing import OneHotEncoder\n",
    "from sklearn.model_selection import train_test_split, GridSearchCV\n",
    "from sklearn.ensemble import RandomForestRegressor\n",
    "from sklearn.metrics import mean_absolute_error\n",
    "from xgboost import XGBRegressor\n",
    "from sklearn.model_selection import cross_val_score"
   ]
  },
  {
   "cell_type": "markdown",
   "id": "be93832b",
   "metadata": {
    "papermill": {
     "duration": 0.00385,
     "end_time": "2023-02-27T17:32:45.190754",
     "exception": false,
     "start_time": "2023-02-27T17:32:45.186904",
     "status": "completed"
    },
    "tags": []
   },
   "source": [
    "# Load datasets: train.csv and test.csv\n",
    "\n"
   ]
  },
  {
   "cell_type": "code",
   "execution_count": 2,
   "id": "276817b2",
   "metadata": {
    "execution": {
     "iopub.execute_input": "2023-02-27T17:32:45.201410Z",
     "iopub.status.busy": "2023-02-27T17:32:45.200511Z",
     "iopub.status.idle": "2023-02-27T17:32:45.307397Z",
     "shell.execute_reply": "2023-02-27T17:32:45.306094Z"
    },
    "papermill": {
     "duration": 0.115238,
     "end_time": "2023-02-27T17:32:45.310178",
     "exception": false,
     "start_time": "2023-02-27T17:32:45.194940",
     "status": "completed"
    },
    "tags": []
   },
   "outputs": [
    {
     "name": "stdout",
     "output_type": "stream",
     "text": [
      "(1460, 79) (1460,) (1459, 79)\n"
     ]
    }
   ],
   "source": [
    "# Read the data\n",
    "X = pd.read_csv('../input/train.csv', index_col='Id') \n",
    "X_test = pd.read_csv('../input/test.csv', index_col='Id')\n",
    "\n",
    "# Remove rows with missing target, separate target from predictors\n",
    "X.dropna(axis=0, subset=['SalePrice'], inplace=True)\n",
    "y = X.SalePrice\n",
    "X.drop(['SalePrice'], axis=1, inplace=True)\n",
    "\n",
    "print (X.shape, y.shape, X_test.shape,)"
   ]
  },
  {
   "cell_type": "markdown",
   "id": "ff57fd97",
   "metadata": {
    "papermill": {
     "duration": 0.003955,
     "end_time": "2023-02-27T17:32:45.318568",
     "exception": false,
     "start_time": "2023-02-27T17:32:45.314613",
     "status": "completed"
    },
    "tags": []
   },
   "source": [
    "# Classify Features \n",
    "Clissify into Categorical and Numerical Features"
   ]
  },
  {
   "cell_type": "code",
   "execution_count": 3,
   "id": "04a5e433",
   "metadata": {
    "execution": {
     "iopub.execute_input": "2023-02-27T17:32:45.328847Z",
     "iopub.status.busy": "2023-02-27T17:32:45.328385Z",
     "iopub.status.idle": "2023-02-27T17:32:45.365158Z",
     "shell.execute_reply": "2023-02-27T17:32:45.363858Z"
    },
    "papermill": {
     "duration": 0.045245,
     "end_time": "2023-02-27T17:32:45.367923",
     "exception": false,
     "start_time": "2023-02-27T17:32:45.322678",
     "status": "completed"
    },
    "tags": []
   },
   "outputs": [
    {
     "name": "stdout",
     "output_type": "stream",
     "text": [
      "(1460, 76)\n"
     ]
    }
   ],
   "source": [
    "# Select categorical columns with relatively low cardinality\n",
    "categorical_cols = [cname for cname in X.columns if \n",
    "                    X[cname].nunique() < 10 and\n",
    "                    X[cname].dtype == \"object\"] \n",
    "                    \n",
    "\n",
    "# Select numerical columns\n",
    "numerical_cols = [cname for cname in X.select_dtypes(exclude='object')]\n",
    "\n",
    "\n",
    "# Keep selected columns only\n",
    "my_cols = categorical_cols + numerical_cols\n",
    "X_test = X_test[my_cols].copy()\n",
    "Xf=X[my_cols].copy()\n",
    "\n",
    "# pd.set_option('display.max_columns', None)\n",
    "print(Xf.shape)\n",
    "# Xf.describe(include='all')\n"
   ]
  },
  {
   "cell_type": "markdown",
   "id": "866962c2",
   "metadata": {
    "papermill": {
     "duration": 0.004216,
     "end_time": "2023-02-27T17:32:45.376541",
     "exception": false,
     "start_time": "2023-02-27T17:32:45.372325",
     "status": "completed"
    },
    "tags": []
   },
   "source": [
    "# Encode Categorical Features \n",
    "Using OrdinalEncoder to process X and X_test  "
   ]
  },
  {
   "cell_type": "code",
   "execution_count": 4,
   "id": "52d3a8d3",
   "metadata": {
    "execution": {
     "iopub.execute_input": "2023-02-27T17:32:45.387196Z",
     "iopub.status.busy": "2023-02-27T17:32:45.386774Z",
     "iopub.status.idle": "2023-02-27T17:32:45.477438Z",
     "shell.execute_reply": "2023-02-27T17:32:45.476147Z"
    },
    "papermill": {
     "duration": 0.099709,
     "end_time": "2023-02-27T17:32:45.480596",
     "exception": false,
     "start_time": "2023-02-27T17:32:45.380887",
     "status": "completed"
    },
    "tags": []
   },
   "outputs": [],
   "source": [
    "Xfinal=Xf\n",
    "X_test_final=X_test\n",
    "OrdEnc=OrdinalEncoder(handle_unknown='use_encoded_value', unknown_value=-1)\n",
    "Xfinal[(categorical_cols)]=OrdEnc.fit_transform(Xf[(categorical_cols)])\n",
    "X_test_final[categorical_cols]=OrdEnc.transform(X_test[categorical_cols])"
   ]
  },
  {
   "cell_type": "markdown",
   "id": "1219ee6d",
   "metadata": {
    "papermill": {
     "duration": 0.004099,
     "end_time": "2023-02-27T17:32:45.489491",
     "exception": false,
     "start_time": "2023-02-27T17:32:45.485392",
     "status": "completed"
    },
    "tags": []
   },
   "source": [
    "# Pipeline: Preprocess and Model\n",
    "Create `my_pipeline` to preprocess the data and build the model (XGBoost)"
   ]
  },
  {
   "cell_type": "code",
   "execution_count": 5,
   "id": "fa5416a7",
   "metadata": {
    "execution": {
     "iopub.execute_input": "2023-02-27T17:32:45.500258Z",
     "iopub.status.busy": "2023-02-27T17:32:45.499867Z",
     "iopub.status.idle": "2023-02-27T17:32:45.510632Z",
     "shell.execute_reply": "2023-02-27T17:32:45.509432Z"
    },
    "papermill": {
     "duration": 0.019759,
     "end_time": "2023-02-27T17:32:45.513609",
     "exception": false,
     "start_time": "2023-02-27T17:32:45.493850",
     "status": "completed"
    },
    "tags": []
   },
   "outputs": [
    {
     "data": {
      "text/plain": [
       "(1460, 76)"
      ]
     },
     "execution_count": 5,
     "metadata": {},
     "output_type": "execute_result"
    }
   ],
   "source": [
    "# Set tranformers for numerical data\n",
    "numerical_transformer = SimpleImputer(strategy='mean')\n",
    "\n",
    "\n",
    "# Set tranformers for categorical data\n",
    "categorical_tranformer = SimpleImputer(strategy='most_frequent')\n",
    "    \n",
    "\n",
    "# Bundle tranformers for numerical and categorical data\n",
    "preprocessor = ColumnTransformer(\n",
    "    transformers=[\n",
    "        ('num', numerical_transformer, numerical_cols),\n",
    "        ('cat', categorical_tranformer, categorical_cols)    \n",
    "        ])\n",
    "\n",
    "# Define model\n",
    "model = XGBRegressor(n_estimators=800, learning_rate=0.05, random_state=0)\n",
    "\n",
    "# Bundle preprocessing and modeling code in a pipeline\n",
    "my_pipeline = Pipeline(steps=[\n",
    "    ('preprocessor', preprocessor),\n",
    "    ('model', model)\n",
    "])\n",
    "\n",
    "Xfinal.shape"
   ]
  },
  {
   "cell_type": "markdown",
   "id": "49a739f6",
   "metadata": {
    "papermill": {
     "duration": 0.004213,
     "end_time": "2023-02-27T17:32:45.522564",
     "exception": false,
     "start_time": "2023-02-27T17:32:45.518351",
     "status": "completed"
    },
    "tags": []
   },
   "source": [
    "# Cross-Validation\n",
    "Using Cross-Validation to evaluate the model"
   ]
  },
  {
   "cell_type": "code",
   "execution_count": 6,
   "id": "c8fe6b97",
   "metadata": {
    "execution": {
     "iopub.execute_input": "2023-02-27T17:32:45.533379Z",
     "iopub.status.busy": "2023-02-27T17:32:45.532985Z",
     "iopub.status.idle": "2023-02-27T17:33:13.642727Z",
     "shell.execute_reply": "2023-02-27T17:33:13.640861Z"
    },
    "papermill": {
     "duration": 28.119214,
     "end_time": "2023-02-27T17:33:13.646269",
     "exception": false,
     "start_time": "2023-02-27T17:32:45.527055",
     "status": "completed"
    },
    "tags": []
   },
   "outputs": [
    {
     "name": "stdout",
     "output_type": "stream",
     "text": [
      "MAE scores:\n",
      " [15948.22515786 16671.70470355 16703.22016802 15125.81600492\n",
      " 17345.80935627]\n",
      "Average MAE score (across experiments):\n",
      "16358.955078125\n"
     ]
    }
   ],
   "source": [
    "# Multiply by -1 since sklearn calculates *negative* MAE\n",
    "scores = -1 * cross_val_score(my_pipeline, Xfinal, y, cv=5, scoring='neg_mean_absolute_error')\n",
    "\n",
    "print(\"MAE scores:\\n\", scores)\n",
    "\n",
    "print(\"Average MAE score (across experiments):\")\n",
    "print(scores.mean())"
   ]
  },
  {
   "cell_type": "markdown",
   "id": "f9b08c9c",
   "metadata": {
    "papermill": {
     "duration": 0.004755,
     "end_time": "2023-02-27T17:33:13.656556",
     "exception": false,
     "start_time": "2023-02-27T17:33:13.651801",
     "status": "completed"
    },
    "tags": []
   },
   "source": [
    "# Fit the pipeline and get predictions"
   ]
  },
  {
   "cell_type": "code",
   "execution_count": 7,
   "id": "56afb6a9",
   "metadata": {
    "execution": {
     "iopub.execute_input": "2023-02-27T17:33:13.667915Z",
     "iopub.status.busy": "2023-02-27T17:33:13.667489Z",
     "iopub.status.idle": "2023-02-27T17:33:19.583992Z",
     "shell.execute_reply": "2023-02-27T17:33:19.582983Z"
    },
    "papermill": {
     "duration": 5.925449,
     "end_time": "2023-02-27T17:33:19.586986",
     "exception": false,
     "start_time": "2023-02-27T17:33:13.661537",
     "status": "completed"
    },
    "tags": []
   },
   "outputs": [],
   "source": [
    "my_pipeline.fit(Xfinal, y)\n",
    "\n",
    "preds_test = my_pipeline.predict(X_test_final)"
   ]
  },
  {
   "cell_type": "markdown",
   "id": "7dfce2b3",
   "metadata": {
    "papermill": {
     "duration": 0.005567,
     "end_time": "2023-02-27T17:33:19.599152",
     "exception": false,
     "start_time": "2023-02-27T17:33:19.593585",
     "status": "completed"
    },
    "tags": []
   },
   "source": [
    "# Save predictions and sbmmit"
   ]
  },
  {
   "cell_type": "code",
   "execution_count": 8,
   "id": "8b8320dd",
   "metadata": {
    "execution": {
     "iopub.execute_input": "2023-02-27T17:33:19.610011Z",
     "iopub.status.busy": "2023-02-27T17:33:19.609574Z",
     "iopub.status.idle": "2023-02-27T17:33:19.626075Z",
     "shell.execute_reply": "2023-02-27T17:33:19.624648Z"
    },
    "papermill": {
     "duration": 0.026051,
     "end_time": "2023-02-27T17:33:19.629689",
     "exception": false,
     "start_time": "2023-02-27T17:33:19.603638",
     "status": "completed"
    },
    "tags": []
   },
   "outputs": [
    {
     "name": "stdout",
     "output_type": "stream",
     "text": [
      "Your submission was successfully saved!\n"
     ]
    }
   ],
   "source": [
    "output = pd.DataFrame({'Id': X_test.index,\n",
    "                       'SalePrice': preds_test})\n",
    "output.to_csv('submission.csv', index=False)\n",
    "\n",
    "print(\"Your submission was successfully saved!\")"
   ]
  }
 ],
 "metadata": {
  "kernelspec": {
   "display_name": "Python 3",
   "language": "python",
   "name": "python3"
  },
  "language_info": {
   "codemirror_mode": {
    "name": "ipython",
    "version": 3
   },
   "file_extension": ".py",
   "mimetype": "text/x-python",
   "name": "python",
   "nbconvert_exporter": "python",
   "pygments_lexer": "ipython3",
   "version": "3.7.12"
  },
  "papermill": {
   "default_parameters": {},
   "duration": 47.458587,
   "end_time": "2023-02-27T17:33:20.358319",
   "environment_variables": {},
   "exception": null,
   "input_path": "__notebook__.ipynb",
   "output_path": "__notebook__.ipynb",
   "parameters": {},
   "start_time": "2023-02-27T17:32:32.899732",
   "version": "2.4.0"
  }
 },
 "nbformat": 4,
 "nbformat_minor": 5
}
